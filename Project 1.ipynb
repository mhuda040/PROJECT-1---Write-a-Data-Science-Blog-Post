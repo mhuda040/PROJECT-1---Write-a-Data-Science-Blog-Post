{
 "cells": [
  {
   "cell_type": "markdown",
   "metadata": {},
   "source": [
    "<H2>Data Analysis:  Netflix Movies and TV Shows</H2>\n",
    "\n",
    "<H3>Abstract</H3>\n",
    "\n",
    "<P>The dataset that is part of this project consists of movies and TV shows available on Netflix as of 2021. The dataset is collected from Flixable, which is a third-party Netflix search engine.  This dataset can be found at Kaggle:  <A HREF=\"https://www.kaggle.com/shivamb/netflix-shows\">https://www.kaggle.com/shivamb/netflix-shows</A></P>\n",
    "\n",
    "<H3>Prepare Data</H3>\n",
    "\n",
    "<P>To get started, let's import our libraries.</P>"
   ]
  },
  {
   "cell_type": "code",
   "execution_count": 1,
   "metadata": {},
   "outputs": [],
   "source": [
    "# Import the pandas to read in Excel spreadsheet files\n",
    "import numpy as np \n",
    "import pandas as pd \n",
    "import matplotlib.pyplot as plt\n",
    "import seaborn as sns\n",
    "import datetime\n",
    "#import nltk\n",
    "from io import StringIO\n",
    "import collections as co\n",
    "sns.set()\n",
    "%matplotlib inline "
   ]
  },
  {
   "cell_type": "markdown",
   "metadata": {},
   "source": [
    "<P>Next, we will read our data into a data frame and print out the data frame in its unedited form.</P>"
   ]
  },
  {
   "cell_type": "code",
   "execution_count": 2,
   "metadata": {},
   "outputs": [
    {
     "name": "stdout",
     "output_type": "stream",
     "text": [
      "Data read successfully into a dataframe.  Here is the listing:\n",
      "\n"
     ]
    },
    {
     "data": {
      "text/html": [
       "<div>\n",
       "<style scoped>\n",
       "    .dataframe tbody tr th:only-of-type {\n",
       "        vertical-align: middle;\n",
       "    }\n",
       "\n",
       "    .dataframe tbody tr th {\n",
       "        vertical-align: top;\n",
       "    }\n",
       "\n",
       "    .dataframe thead th {\n",
       "        text-align: right;\n",
       "    }\n",
       "</style>\n",
       "<table border=\"1\" class=\"dataframe\">\n",
       "  <thead>\n",
       "    <tr style=\"text-align: right;\">\n",
       "      <th></th>\n",
       "      <th>show_id</th>\n",
       "      <th>type</th>\n",
       "      <th>title</th>\n",
       "      <th>director</th>\n",
       "      <th>cast</th>\n",
       "      <th>country</th>\n",
       "      <th>date_added</th>\n",
       "      <th>release_year</th>\n",
       "      <th>rating</th>\n",
       "      <th>duration</th>\n",
       "      <th>listed_in</th>\n",
       "      <th>description</th>\n",
       "    </tr>\n",
       "  </thead>\n",
       "  <tbody>\n",
       "    <tr>\n",
       "      <th>0</th>\n",
       "      <td>s1</td>\n",
       "      <td>TV Show</td>\n",
       "      <td>3%</td>\n",
       "      <td>NaN</td>\n",
       "      <td>João Miguel, Bianca Comparato, Michel Gomes, R...</td>\n",
       "      <td>Brazil</td>\n",
       "      <td>August 14, 2020</td>\n",
       "      <td>2020</td>\n",
       "      <td>TV-MA</td>\n",
       "      <td>4 Seasons</td>\n",
       "      <td>International TV Shows, TV Dramas, TV Sci-Fi &amp;...</td>\n",
       "      <td>In a future where the elite inhabit an island ...</td>\n",
       "    </tr>\n",
       "    <tr>\n",
       "      <th>1</th>\n",
       "      <td>s2</td>\n",
       "      <td>Movie</td>\n",
       "      <td>7:19</td>\n",
       "      <td>Jorge Michel Grau</td>\n",
       "      <td>Demián Bichir, Héctor Bonilla, Oscar Serrano, ...</td>\n",
       "      <td>Mexico</td>\n",
       "      <td>December 23, 2016</td>\n",
       "      <td>2016</td>\n",
       "      <td>TV-MA</td>\n",
       "      <td>93 min</td>\n",
       "      <td>Dramas, International Movies</td>\n",
       "      <td>After a devastating earthquake hits Mexico Cit...</td>\n",
       "    </tr>\n",
       "    <tr>\n",
       "      <th>2</th>\n",
       "      <td>s3</td>\n",
       "      <td>Movie</td>\n",
       "      <td>23:59</td>\n",
       "      <td>Gilbert Chan</td>\n",
       "      <td>Tedd Chan, Stella Chung, Henley Hii, Lawrence ...</td>\n",
       "      <td>Singapore</td>\n",
       "      <td>December 20, 2018</td>\n",
       "      <td>2011</td>\n",
       "      <td>R</td>\n",
       "      <td>78 min</td>\n",
       "      <td>Horror Movies, International Movies</td>\n",
       "      <td>When an army recruit is found dead, his fellow...</td>\n",
       "    </tr>\n",
       "    <tr>\n",
       "      <th>3</th>\n",
       "      <td>s4</td>\n",
       "      <td>Movie</td>\n",
       "      <td>9</td>\n",
       "      <td>Shane Acker</td>\n",
       "      <td>Elijah Wood, John C. Reilly, Jennifer Connelly...</td>\n",
       "      <td>United States</td>\n",
       "      <td>November 16, 2017</td>\n",
       "      <td>2009</td>\n",
       "      <td>PG-13</td>\n",
       "      <td>80 min</td>\n",
       "      <td>Action &amp; Adventure, Independent Movies, Sci-Fi...</td>\n",
       "      <td>In a postapocalyptic world, rag-doll robots hi...</td>\n",
       "    </tr>\n",
       "    <tr>\n",
       "      <th>4</th>\n",
       "      <td>s5</td>\n",
       "      <td>Movie</td>\n",
       "      <td>21</td>\n",
       "      <td>Robert Luketic</td>\n",
       "      <td>Jim Sturgess, Kevin Spacey, Kate Bosworth, Aar...</td>\n",
       "      <td>United States</td>\n",
       "      <td>January 1, 2020</td>\n",
       "      <td>2008</td>\n",
       "      <td>PG-13</td>\n",
       "      <td>123 min</td>\n",
       "      <td>Dramas</td>\n",
       "      <td>A brilliant group of students become card-coun...</td>\n",
       "    </tr>\n",
       "  </tbody>\n",
       "</table>\n",
       "</div>"
      ],
      "text/plain": [
       "  show_id     type  title           director  \\\n",
       "0      s1  TV Show     3%                NaN   \n",
       "1      s2    Movie   7:19  Jorge Michel Grau   \n",
       "2      s3    Movie  23:59       Gilbert Chan   \n",
       "3      s4    Movie      9        Shane Acker   \n",
       "4      s5    Movie     21     Robert Luketic   \n",
       "\n",
       "                                                cast        country  \\\n",
       "0  João Miguel, Bianca Comparato, Michel Gomes, R...         Brazil   \n",
       "1  Demián Bichir, Héctor Bonilla, Oscar Serrano, ...         Mexico   \n",
       "2  Tedd Chan, Stella Chung, Henley Hii, Lawrence ...      Singapore   \n",
       "3  Elijah Wood, John C. Reilly, Jennifer Connelly...  United States   \n",
       "4  Jim Sturgess, Kevin Spacey, Kate Bosworth, Aar...  United States   \n",
       "\n",
       "          date_added  release_year rating   duration  \\\n",
       "0    August 14, 2020          2020  TV-MA  4 Seasons   \n",
       "1  December 23, 2016          2016  TV-MA     93 min   \n",
       "2  December 20, 2018          2011      R     78 min   \n",
       "3  November 16, 2017          2009  PG-13     80 min   \n",
       "4    January 1, 2020          2008  PG-13    123 min   \n",
       "\n",
       "                                           listed_in  \\\n",
       "0  International TV Shows, TV Dramas, TV Sci-Fi &...   \n",
       "1                       Dramas, International Movies   \n",
       "2                Horror Movies, International Movies   \n",
       "3  Action & Adventure, Independent Movies, Sci-Fi...   \n",
       "4                                             Dramas   \n",
       "\n",
       "                                         description  \n",
       "0  In a future where the elite inhabit an island ...  \n",
       "1  After a devastating earthquake hits Mexico Cit...  \n",
       "2  When an army recruit is found dead, his fellow...  \n",
       "3  In a postapocalyptic world, rag-doll robots hi...  \n",
       "4  A brilliant group of students become card-coun...  "
      ]
     },
     "execution_count": 2,
     "metadata": {},
     "output_type": "execute_result"
    }
   ],
   "source": [
    "# Read the data into a dataframe from a .csv spreadsheet using the read_csv command\n",
    "df_netflix = pd.read_csv('netflix_titles.csv')\n",
    "\n",
    "# Print out the dataframe\n",
    "print ('Data read successfully into a dataframe.  Here is the listing:\\n')\n",
    "\n",
    "# Print out all the rows (head() prints out the first five rows actually)\n",
    "df_netflix.head()"
   ]
  },
  {
   "cell_type": "markdown",
   "metadata": {},
   "source": [
    "<P>Get the dimensions of the data frame</P>"
   ]
  },
  {
   "cell_type": "code",
   "execution_count": 3,
   "metadata": {},
   "outputs": [
    {
     "data": {
      "text/plain": [
       "(7787, 12)"
      ]
     },
     "execution_count": 3,
     "metadata": {},
     "output_type": "execute_result"
    }
   ],
   "source": [
    "# Dimensions of the data set for Netflix\n",
    "df_netflix.shape"
   ]
  },
  {
   "cell_type": "markdown",
   "metadata": {},
   "source": [
    "<H3>Assessing The Data</H3>\n",
    "\n",
    "<P>From what we have obtained, there are 7787 entries arranged in 12 columns.  Let's assess each column:</P>\n",
    "\n",
    "<UL>\n",
    "    <LI><B>show_id:</B>  This is the unique identifier for the movie or TV show.</LI>\n",
    "    <LI><B>type:</B>  The name of the category for the entry, whether it is a movie or TV show.</LI>\n",
    "    <LI><B>title:</B>  The title of the movie or TV show.</LI>\n",
    "    <LI><B>director:</B>  Name of the director for the movie or TV show.</LI>\n",
    "    <LI><B>cast:</B>  Names of the actors and actresses.</LI>\n",
    "    <LI><B>country:</B>  Name of country where movie or TV show was filmed.</LI>\n",
    "    <LI><B>date_added:</B>  The date when the title was added to the Netflix catalog.</LI>\n",
    "    <LI><B>release_year:</B>  Year of production</LI>\n",
    "    <LI><B>rating:</B>  The rating of the movie or TV show</LI>\n",
    "    <LI><B>duration:</B>  Running time (movie) or number of seasons (TV show)</LI>\n",
    "    <LI><B>listed_in:</B>  Category or categories that the movie or TV show falls under.</LI>\n",
    "    <LI><B>description:</B>  Synopsis of the movie or TV show</LI>\n",
    "</UL>"
   ]
  },
  {
   "cell_type": "code",
   "execution_count": 4,
   "metadata": {},
   "outputs": [
    {
     "data": {
      "text/html": [
       "<div>\n",
       "<style scoped>\n",
       "    .dataframe tbody tr th:only-of-type {\n",
       "        vertical-align: middle;\n",
       "    }\n",
       "\n",
       "    .dataframe tbody tr th {\n",
       "        vertical-align: top;\n",
       "    }\n",
       "\n",
       "    .dataframe thead th {\n",
       "        text-align: right;\n",
       "    }\n",
       "</style>\n",
       "<table border=\"1\" class=\"dataframe\">\n",
       "  <thead>\n",
       "    <tr style=\"text-align: right;\">\n",
       "      <th></th>\n",
       "      <th>show_id</th>\n",
       "      <th>type</th>\n",
       "      <th>title</th>\n",
       "      <th>director</th>\n",
       "      <th>cast</th>\n",
       "      <th>country</th>\n",
       "      <th>date_added</th>\n",
       "      <th>release_year</th>\n",
       "      <th>rating</th>\n",
       "      <th>duration</th>\n",
       "      <th>listed_in</th>\n",
       "      <th>description</th>\n",
       "    </tr>\n",
       "  </thead>\n",
       "  <tbody>\n",
       "    <tr>\n",
       "      <th>2499</th>\n",
       "      <td>s2500</td>\n",
       "      <td>Movie</td>\n",
       "      <td>Goosebumps 2: Haunted Halloween</td>\n",
       "      <td>Ari Sandel</td>\n",
       "      <td>Jeremy Ray Taylor, Madison Iseman, Caleel Harr...</td>\n",
       "      <td>United States, United Kingdom</td>\n",
       "      <td>April 25, 2019</td>\n",
       "      <td>2018</td>\n",
       "      <td>PG</td>\n",
       "      <td>90 min</td>\n",
       "      <td>Children &amp; Family Movies, Comedies</td>\n",
       "      <td>Three teens spend their Halloween trying to st...</td>\n",
       "    </tr>\n",
       "    <tr>\n",
       "      <th>7431</th>\n",
       "      <td>s7432</td>\n",
       "      <td>TV Show</td>\n",
       "      <td>Virgin River</td>\n",
       "      <td>NaN</td>\n",
       "      <td>Alexandra Breckenridge, Martin Henderson, Tim ...</td>\n",
       "      <td>United States</td>\n",
       "      <td>November 27, 2020</td>\n",
       "      <td>2020</td>\n",
       "      <td>TV-14</td>\n",
       "      <td>2 Seasons</td>\n",
       "      <td>Romantic TV Shows, TV Dramas</td>\n",
       "      <td>Searching for a fresh start, a nurse practitio...</td>\n",
       "    </tr>\n",
       "    <tr>\n",
       "      <th>6186</th>\n",
       "      <td>s6187</td>\n",
       "      <td>Movie</td>\n",
       "      <td>The Bund</td>\n",
       "      <td>NaN</td>\n",
       "      <td>Chow Yun Fat</td>\n",
       "      <td>Hong Kong</td>\n",
       "      <td>September 20, 2018</td>\n",
       "      <td>1983</td>\n",
       "      <td>TV-14</td>\n",
       "      <td>103 min</td>\n",
       "      <td>Action &amp; Adventure, Dramas, International Movies</td>\n",
       "      <td>After losing everything, a young man rebuilds ...</td>\n",
       "    </tr>\n",
       "    <tr>\n",
       "      <th>758</th>\n",
       "      <td>s759</td>\n",
       "      <td>Movie</td>\n",
       "      <td>Basic Instinct</td>\n",
       "      <td>Paul Verhoeven</td>\n",
       "      <td>Michael Douglas, Sharon Stone, George Dzundza,...</td>\n",
       "      <td>United States, France</td>\n",
       "      <td>October 1, 2020</td>\n",
       "      <td>1992</td>\n",
       "      <td>R</td>\n",
       "      <td>128 min</td>\n",
       "      <td>Classic Movies, Thrillers</td>\n",
       "      <td>A detective investigating a rock star's brutal...</td>\n",
       "    </tr>\n",
       "    <tr>\n",
       "      <th>503</th>\n",
       "      <td>s504</td>\n",
       "      <td>Movie</td>\n",
       "      <td>Anchor Baby</td>\n",
       "      <td>Lonzo Nzekwe</td>\n",
       "      <td>Omoni Oboli, Sam Sarpong, Terri Oliver, Colin ...</td>\n",
       "      <td>Canada, Nigeria</td>\n",
       "      <td>May 20, 2020</td>\n",
       "      <td>2010</td>\n",
       "      <td>TV-MA</td>\n",
       "      <td>97 min</td>\n",
       "      <td>Dramas, International Movies</td>\n",
       "      <td>A Nigerian couple living in the U.S. face agon...</td>\n",
       "    </tr>\n",
       "    <tr>\n",
       "      <th>306</th>\n",
       "      <td>s307</td>\n",
       "      <td>TV Show</td>\n",
       "      <td>Adam Ruins Everything</td>\n",
       "      <td>NaN</td>\n",
       "      <td>Adam Conover, Adam Lustick, Emily Axford</td>\n",
       "      <td>United States</td>\n",
       "      <td>September 30, 2018</td>\n",
       "      <td>2018</td>\n",
       "      <td>TV-14</td>\n",
       "      <td>1 Season</td>\n",
       "      <td>TV Comedies</td>\n",
       "      <td>Education can be fun – and funny. Comedian Ada...</td>\n",
       "    </tr>\n",
       "    <tr>\n",
       "      <th>441</th>\n",
       "      <td>s442</td>\n",
       "      <td>Movie</td>\n",
       "      <td>Always Be My Maybe</td>\n",
       "      <td>Dan Villegas</td>\n",
       "      <td>Gerald Anderson, Arci Muñoz, Cacai Bautista, R...</td>\n",
       "      <td>Philippines</td>\n",
       "      <td>September 1, 2020</td>\n",
       "      <td>2016</td>\n",
       "      <td>TV-14</td>\n",
       "      <td>112 min</td>\n",
       "      <td>International Movies, Romantic Movies</td>\n",
       "      <td>After being unexpectedly dumped by their respe...</td>\n",
       "    </tr>\n",
       "    <tr>\n",
       "      <th>6188</th>\n",
       "      <td>s6189</td>\n",
       "      <td>TV Show</td>\n",
       "      <td>The Business of Drugs</td>\n",
       "      <td>NaN</td>\n",
       "      <td>Amaryllis Fox</td>\n",
       "      <td>United States</td>\n",
       "      <td>July 14, 2020</td>\n",
       "      <td>2020</td>\n",
       "      <td>TV-MA</td>\n",
       "      <td>1 Season</td>\n",
       "      <td>Docuseries</td>\n",
       "      <td>To understand the origins and true impact of t...</td>\n",
       "    </tr>\n",
       "    <tr>\n",
       "      <th>7213</th>\n",
       "      <td>s7214</td>\n",
       "      <td>Movie</td>\n",
       "      <td>Tremors: Shrieker Island</td>\n",
       "      <td>Don Michael Paul</td>\n",
       "      <td>Michael Gross, Jon Heder, Caroline Langrishe, ...</td>\n",
       "      <td>United States</td>\n",
       "      <td>October 20, 2020</td>\n",
       "      <td>2020</td>\n",
       "      <td>PG-13</td>\n",
       "      <td>102 min</td>\n",
       "      <td>Action &amp; Adventure, Horror Movies</td>\n",
       "      <td>When massive mutant creatures infiltrate an is...</td>\n",
       "    </tr>\n",
       "    <tr>\n",
       "      <th>2172</th>\n",
       "      <td>s2173</td>\n",
       "      <td>Movie</td>\n",
       "      <td>Fire in Paradise</td>\n",
       "      <td>Drea Cooper, Zackary Canepari</td>\n",
       "      <td>NaN</td>\n",
       "      <td>United States</td>\n",
       "      <td>November 1, 2019</td>\n",
       "      <td>2019</td>\n",
       "      <td>TV-MA</td>\n",
       "      <td>40 min</td>\n",
       "      <td>Documentaries</td>\n",
       "      <td>In this documentary, survivors recall the cata...</td>\n",
       "    </tr>\n",
       "  </tbody>\n",
       "</table>\n",
       "</div>"
      ],
      "text/plain": [
       "     show_id     type                            title  \\\n",
       "2499   s2500    Movie  Goosebumps 2: Haunted Halloween   \n",
       "7431   s7432  TV Show                     Virgin River   \n",
       "6186   s6187    Movie                         The Bund   \n",
       "758     s759    Movie                   Basic Instinct   \n",
       "503     s504    Movie                      Anchor Baby   \n",
       "306     s307  TV Show            Adam Ruins Everything   \n",
       "441     s442    Movie               Always Be My Maybe   \n",
       "6188   s6189  TV Show            The Business of Drugs   \n",
       "7213   s7214    Movie         Tremors: Shrieker Island   \n",
       "2172   s2173    Movie                 Fire in Paradise   \n",
       "\n",
       "                           director  \\\n",
       "2499                     Ari Sandel   \n",
       "7431                            NaN   \n",
       "6186                            NaN   \n",
       "758                  Paul Verhoeven   \n",
       "503                    Lonzo Nzekwe   \n",
       "306                             NaN   \n",
       "441                    Dan Villegas   \n",
       "6188                            NaN   \n",
       "7213               Don Michael Paul   \n",
       "2172  Drea Cooper, Zackary Canepari   \n",
       "\n",
       "                                                   cast  \\\n",
       "2499  Jeremy Ray Taylor, Madison Iseman, Caleel Harr...   \n",
       "7431  Alexandra Breckenridge, Martin Henderson, Tim ...   \n",
       "6186                                       Chow Yun Fat   \n",
       "758   Michael Douglas, Sharon Stone, George Dzundza,...   \n",
       "503   Omoni Oboli, Sam Sarpong, Terri Oliver, Colin ...   \n",
       "306            Adam Conover, Adam Lustick, Emily Axford   \n",
       "441   Gerald Anderson, Arci Muñoz, Cacai Bautista, R...   \n",
       "6188                                      Amaryllis Fox   \n",
       "7213  Michael Gross, Jon Heder, Caroline Langrishe, ...   \n",
       "2172                                                NaN   \n",
       "\n",
       "                            country          date_added  release_year rating  \\\n",
       "2499  United States, United Kingdom      April 25, 2019          2018     PG   \n",
       "7431                  United States   November 27, 2020          2020  TV-14   \n",
       "6186                      Hong Kong  September 20, 2018          1983  TV-14   \n",
       "758           United States, France     October 1, 2020          1992      R   \n",
       "503                 Canada, Nigeria        May 20, 2020          2010  TV-MA   \n",
       "306                   United States  September 30, 2018          2018  TV-14   \n",
       "441                     Philippines   September 1, 2020          2016  TV-14   \n",
       "6188                  United States       July 14, 2020          2020  TV-MA   \n",
       "7213                  United States    October 20, 2020          2020  PG-13   \n",
       "2172                  United States    November 1, 2019          2019  TV-MA   \n",
       "\n",
       "       duration                                         listed_in  \\\n",
       "2499     90 min                Children & Family Movies, Comedies   \n",
       "7431  2 Seasons                      Romantic TV Shows, TV Dramas   \n",
       "6186    103 min  Action & Adventure, Dramas, International Movies   \n",
       "758     128 min                         Classic Movies, Thrillers   \n",
       "503      97 min                      Dramas, International Movies   \n",
       "306    1 Season                                       TV Comedies   \n",
       "441     112 min             International Movies, Romantic Movies   \n",
       "6188   1 Season                                        Docuseries   \n",
       "7213    102 min                 Action & Adventure, Horror Movies   \n",
       "2172     40 min                                     Documentaries   \n",
       "\n",
       "                                            description  \n",
       "2499  Three teens spend their Halloween trying to st...  \n",
       "7431  Searching for a fresh start, a nurse practitio...  \n",
       "6186  After losing everything, a young man rebuilds ...  \n",
       "758   A detective investigating a rock star's brutal...  \n",
       "503   A Nigerian couple living in the U.S. face agon...  \n",
       "306   Education can be fun – and funny. Comedian Ada...  \n",
       "441   After being unexpectedly dumped by their respe...  \n",
       "6188  To understand the origins and true impact of t...  \n",
       "7213  When massive mutant creatures infiltrate an is...  \n",
       "2172  In this documentary, survivors recall the cata...  "
      ]
     },
     "execution_count": 4,
     "metadata": {},
     "output_type": "execute_result"
    }
   ],
   "source": [
    "# Obtain a sample of entries from the dataframe\n",
    "df_netflix.sample(10)"
   ]
  },
  {
   "cell_type": "code",
   "execution_count": 5,
   "metadata": {},
   "outputs": [
    {
     "name": "stdout",
     "output_type": "stream",
     "text": [
      "<class 'pandas.core.frame.DataFrame'>\n",
      "RangeIndex: 7787 entries, 0 to 7786\n",
      "Data columns (total 12 columns):\n",
      " #   Column        Non-Null Count  Dtype \n",
      "---  ------        --------------  ----- \n",
      " 0   show_id       7787 non-null   object\n",
      " 1   type          7787 non-null   object\n",
      " 2   title         7787 non-null   object\n",
      " 3   director      5398 non-null   object\n",
      " 4   cast          7069 non-null   object\n",
      " 5   country       7280 non-null   object\n",
      " 6   date_added    7777 non-null   object\n",
      " 7   release_year  7787 non-null   int64 \n",
      " 8   rating        7780 non-null   object\n",
      " 9   duration      7787 non-null   object\n",
      " 10  listed_in     7787 non-null   object\n",
      " 11  description   7787 non-null   object\n",
      "dtypes: int64(1), object(11)\n",
      "memory usage: 730.2+ KB\n"
     ]
    }
   ],
   "source": [
    "# Obtain some info about our data\n",
    "df_netflix.info()"
   ]
  },
  {
   "cell_type": "markdown",
   "metadata": {},
   "source": [
    "<P>From the information we have obtained, there are some entries missing for director.  We probably will not need description, either, as it's probably not relevant to our data inquiry.</P>"
   ]
  },
  {
   "cell_type": "code",
   "execution_count": 6,
   "metadata": {},
   "outputs": [
    {
     "data": {
      "text/plain": [
       "Movie      5377\n",
       "TV Show    2410\n",
       "Name: type, dtype: int64"
      ]
     },
     "execution_count": 6,
     "metadata": {},
     "output_type": "execute_result"
    }
   ],
   "source": [
    "# Number of movies versus number of TV shows using value counts on type\n",
    "df_netflix.type.value_counts()"
   ]
  },
  {
   "cell_type": "code",
   "execution_count": 7,
   "metadata": {},
   "outputs": [
    {
     "data": {
      "text/plain": [
       "United States                                                                     2555\n",
       "India                                                                              923\n",
       "United Kingdom                                                                     397\n",
       "Japan                                                                              226\n",
       "South Korea                                                                        183\n",
       "                                                                                  ... \n",
       "France, Japan, United States                                                         1\n",
       "Indonesia, South Korea, Singapore                                                    1\n",
       "Ireland, Canada, Luxembourg, United States, United Kingdom, Philippines, India       1\n",
       "Croatia, Slovenia, Serbia, Montenegro                                                1\n",
       "Austria, Czech Republic                                                              1\n",
       "Name: country, Length: 681, dtype: int64"
      ]
     },
     "execution_count": 7,
     "metadata": {},
     "output_type": "execute_result"
    }
   ],
   "source": [
    "# Number of countries for each movie and TV show; this indicates that\n",
    "# some movies and TV shows were filmed in multiple countries\n",
    "# The majority of these productions were filmed in the United States\n",
    "df_netflix.country.value_counts()"
   ]
  },
  {
   "cell_type": "code",
   "execution_count": 8,
   "metadata": {},
   "outputs": [
    {
     "data": {
      "text/plain": [
       "Documentaries                                                 334\n",
       "Stand-Up Comedy                                               321\n",
       "Dramas, International Movies                                  320\n",
       "Comedies, Dramas, International Movies                        243\n",
       "Dramas, Independent Movies, International Movies              215\n",
       "                                                             ... \n",
       "International TV Shows, Romantic TV Shows, TV Mysteries         1\n",
       "Action & Adventure, Classic Movies, International Movies        1\n",
       "Action & Adventure, Sci-Fi & Fantasy, Thrillers                 1\n",
       "Action & Adventure, Dramas, Romantic Movies                     1\n",
       "Crime TV Shows, TV Action & Adventure, TV Sci-Fi & Fantasy      1\n",
       "Name: listed_in, Length: 492, dtype: int64"
      ]
     },
     "execution_count": 8,
     "metadata": {},
     "output_type": "execute_result"
    }
   ],
   "source": [
    "# Number of movies and TV shows that fall into a specific category.\n",
    "# Most of them are documentaries, with comedy a close second.\n",
    "df_netflix.listed_in.value_counts()"
   ]
  },
  {
   "cell_type": "code",
   "execution_count": 9,
   "metadata": {},
   "outputs": [
    {
     "data": {
      "text/plain": [
       "1 Season     1608\n",
       "2 Seasons     382\n",
       "3 Seasons     184\n",
       "90 min        136\n",
       "93 min        131\n",
       "             ... \n",
       "253 min         1\n",
       "312 min         1\n",
       "9 min           1\n",
       "16 min          1\n",
       "10 min          1\n",
       "Name: duration, Length: 216, dtype: int64"
      ]
     },
     "execution_count": 9,
     "metadata": {},
     "output_type": "execute_result"
    }
   ],
   "source": [
    "# Obtaining the running time or number of seasons for each movie or TV show\n",
    "df_netflix.duration.value_counts()"
   ]
  },
  {
   "cell_type": "code",
   "execution_count": 10,
   "metadata": {},
   "outputs": [
    {
     "data": {
      "text/plain": [
       "TV-MA       2863\n",
       "TV-14       1931\n",
       "TV-PG        806\n",
       "R            665\n",
       "PG-13        386\n",
       "TV-Y         280\n",
       "TV-Y7        271\n",
       "PG           247\n",
       "TV-G         194\n",
       "NR            84\n",
       "G             39\n",
       "TV-Y7-FV       6\n",
       "UR             5\n",
       "NC-17          3\n",
       "Name: rating, dtype: int64"
      ]
     },
     "execution_count": 10,
     "metadata": {},
     "output_type": "execute_result"
    }
   ],
   "source": [
    "# Obtaining the rating for each movie or TV show.  Movies follow the MPAA Guidelines\n",
    "# while TV shows follow the Parental Guidelines\n",
    "df_netflix.rating.value_counts()"
   ]
  },
  {
   "cell_type": "code",
   "execution_count": 11,
   "metadata": {},
   "outputs": [
    {
     "data": {
      "text/plain": [
       "2018    1121\n",
       "2017    1012\n",
       "2019     996\n",
       "2016     882\n",
       "2020     868\n",
       "        ... \n",
       "1966       1\n",
       "1947       1\n",
       "1959       1\n",
       "1964       1\n",
       "1925       1\n",
       "Name: release_year, Length: 73, dtype: int64"
      ]
     },
     "execution_count": 11,
     "metadata": {},
     "output_type": "execute_result"
    }
   ],
   "source": [
    "# Number of entries produced during a given year\n",
    "df_netflix.release_year.value_counts()"
   ]
  },
  {
   "cell_type": "markdown",
   "metadata": {},
   "source": [
    "<P>Check for duplicate rows using the duplicated() function</P>"
   ]
  },
  {
   "cell_type": "code",
   "execution_count": 12,
   "metadata": {},
   "outputs": [
    {
     "data": {
      "text/plain": [
       "0"
      ]
     },
     "execution_count": 12,
     "metadata": {},
     "output_type": "execute_result"
    }
   ],
   "source": [
    "# check for duplicate rows\n",
    "sum(df_netflix.duplicated())"
   ]
  },
  {
   "cell_type": "markdown",
   "metadata": {},
   "source": [
    "<P>Quality and evaluation</P>\n",
    "\n",
    "<UL>\n",
    "    <LI>Director has some missing entries, while description doesn't add anything to what we would like to assess with our data.</LI>\n",
    "    <LI>It was unclear if we needed to include cast.  After further evaluation, it was determined cast was not important for our findings.</LI>\n",
    "</UL>"
   ]
  },
  {
   "cell_type": "markdown",
   "metadata": {},
   "source": [
    "<H3>Cleaning the Data</H3>\n",
    "\n",
    "<P>The first step of the cleaning process is to make a copy of the dataframe. Then for each of the issues identified in the Assess stage we will go through the process of defining the issue and how to fix it, coding a fix, and testing that it worked.</P>\n",
    "\n",
    "<P>First, use the copy() function to copy the data to a new dataframe.</P>"
   ]
  },
  {
   "cell_type": "code",
   "execution_count": 13,
   "metadata": {},
   "outputs": [],
   "source": [
    "# Copy the existing data in df_netflix to df_copy_netflix\n",
    "df_copy_netflix = df_netflix.copy()"
   ]
  },
  {
   "cell_type": "markdown",
   "metadata": {},
   "source": [
    "<P>Next, drop the columns director and description using the drop function.</P>"
   ]
  },
  {
   "cell_type": "code",
   "execution_count": 14,
   "metadata": {},
   "outputs": [],
   "source": [
    "# Drop the columns director, cast, and description; don't forget to add the axis=1!\n",
    "df_copy_netflix = df_copy_netflix.drop(['director', 'cast', 'description'], axis=1)"
   ]
  },
  {
   "cell_type": "markdown",
   "metadata": {},
   "source": [
    "<P>Display the new copy Netflix dataframe.</P>"
   ]
  },
  {
   "cell_type": "code",
   "execution_count": 15,
   "metadata": {},
   "outputs": [
    {
     "data": {
      "text/html": [
       "<div>\n",
       "<style scoped>\n",
       "    .dataframe tbody tr th:only-of-type {\n",
       "        vertical-align: middle;\n",
       "    }\n",
       "\n",
       "    .dataframe tbody tr th {\n",
       "        vertical-align: top;\n",
       "    }\n",
       "\n",
       "    .dataframe thead th {\n",
       "        text-align: right;\n",
       "    }\n",
       "</style>\n",
       "<table border=\"1\" class=\"dataframe\">\n",
       "  <thead>\n",
       "    <tr style=\"text-align: right;\">\n",
       "      <th></th>\n",
       "      <th>show_id</th>\n",
       "      <th>type</th>\n",
       "      <th>title</th>\n",
       "      <th>country</th>\n",
       "      <th>date_added</th>\n",
       "      <th>release_year</th>\n",
       "      <th>rating</th>\n",
       "      <th>duration</th>\n",
       "      <th>listed_in</th>\n",
       "    </tr>\n",
       "  </thead>\n",
       "  <tbody>\n",
       "    <tr>\n",
       "      <th>0</th>\n",
       "      <td>s1</td>\n",
       "      <td>TV Show</td>\n",
       "      <td>3%</td>\n",
       "      <td>Brazil</td>\n",
       "      <td>August 14, 2020</td>\n",
       "      <td>2020</td>\n",
       "      <td>TV-MA</td>\n",
       "      <td>4 Seasons</td>\n",
       "      <td>International TV Shows, TV Dramas, TV Sci-Fi &amp;...</td>\n",
       "    </tr>\n",
       "    <tr>\n",
       "      <th>1</th>\n",
       "      <td>s2</td>\n",
       "      <td>Movie</td>\n",
       "      <td>7:19</td>\n",
       "      <td>Mexico</td>\n",
       "      <td>December 23, 2016</td>\n",
       "      <td>2016</td>\n",
       "      <td>TV-MA</td>\n",
       "      <td>93 min</td>\n",
       "      <td>Dramas, International Movies</td>\n",
       "    </tr>\n",
       "    <tr>\n",
       "      <th>2</th>\n",
       "      <td>s3</td>\n",
       "      <td>Movie</td>\n",
       "      <td>23:59</td>\n",
       "      <td>Singapore</td>\n",
       "      <td>December 20, 2018</td>\n",
       "      <td>2011</td>\n",
       "      <td>R</td>\n",
       "      <td>78 min</td>\n",
       "      <td>Horror Movies, International Movies</td>\n",
       "    </tr>\n",
       "    <tr>\n",
       "      <th>3</th>\n",
       "      <td>s4</td>\n",
       "      <td>Movie</td>\n",
       "      <td>9</td>\n",
       "      <td>United States</td>\n",
       "      <td>November 16, 2017</td>\n",
       "      <td>2009</td>\n",
       "      <td>PG-13</td>\n",
       "      <td>80 min</td>\n",
       "      <td>Action &amp; Adventure, Independent Movies, Sci-Fi...</td>\n",
       "    </tr>\n",
       "    <tr>\n",
       "      <th>4</th>\n",
       "      <td>s5</td>\n",
       "      <td>Movie</td>\n",
       "      <td>21</td>\n",
       "      <td>United States</td>\n",
       "      <td>January 1, 2020</td>\n",
       "      <td>2008</td>\n",
       "      <td>PG-13</td>\n",
       "      <td>123 min</td>\n",
       "      <td>Dramas</td>\n",
       "    </tr>\n",
       "    <tr>\n",
       "      <th>...</th>\n",
       "      <td>...</td>\n",
       "      <td>...</td>\n",
       "      <td>...</td>\n",
       "      <td>...</td>\n",
       "      <td>...</td>\n",
       "      <td>...</td>\n",
       "      <td>...</td>\n",
       "      <td>...</td>\n",
       "      <td>...</td>\n",
       "    </tr>\n",
       "    <tr>\n",
       "      <th>7782</th>\n",
       "      <td>s7783</td>\n",
       "      <td>Movie</td>\n",
       "      <td>Zozo</td>\n",
       "      <td>Sweden, Czech Republic, United Kingdom, Denmar...</td>\n",
       "      <td>October 19, 2020</td>\n",
       "      <td>2005</td>\n",
       "      <td>TV-MA</td>\n",
       "      <td>99 min</td>\n",
       "      <td>Dramas, International Movies</td>\n",
       "    </tr>\n",
       "    <tr>\n",
       "      <th>7783</th>\n",
       "      <td>s7784</td>\n",
       "      <td>Movie</td>\n",
       "      <td>Zubaan</td>\n",
       "      <td>India</td>\n",
       "      <td>March 2, 2019</td>\n",
       "      <td>2015</td>\n",
       "      <td>TV-14</td>\n",
       "      <td>111 min</td>\n",
       "      <td>Dramas, International Movies, Music &amp; Musicals</td>\n",
       "    </tr>\n",
       "    <tr>\n",
       "      <th>7784</th>\n",
       "      <td>s7785</td>\n",
       "      <td>Movie</td>\n",
       "      <td>Zulu Man in Japan</td>\n",
       "      <td>NaN</td>\n",
       "      <td>September 25, 2020</td>\n",
       "      <td>2019</td>\n",
       "      <td>TV-MA</td>\n",
       "      <td>44 min</td>\n",
       "      <td>Documentaries, International Movies, Music &amp; M...</td>\n",
       "    </tr>\n",
       "    <tr>\n",
       "      <th>7785</th>\n",
       "      <td>s7786</td>\n",
       "      <td>TV Show</td>\n",
       "      <td>Zumbo's Just Desserts</td>\n",
       "      <td>Australia</td>\n",
       "      <td>October 31, 2020</td>\n",
       "      <td>2019</td>\n",
       "      <td>TV-PG</td>\n",
       "      <td>1 Season</td>\n",
       "      <td>International TV Shows, Reality TV</td>\n",
       "    </tr>\n",
       "    <tr>\n",
       "      <th>7786</th>\n",
       "      <td>s7787</td>\n",
       "      <td>Movie</td>\n",
       "      <td>ZZ TOP: THAT LITTLE OL' BAND FROM TEXAS</td>\n",
       "      <td>United Kingdom, Canada, United States</td>\n",
       "      <td>March 1, 2020</td>\n",
       "      <td>2019</td>\n",
       "      <td>TV-MA</td>\n",
       "      <td>90 min</td>\n",
       "      <td>Documentaries, Music &amp; Musicals</td>\n",
       "    </tr>\n",
       "  </tbody>\n",
       "</table>\n",
       "<p>7787 rows × 9 columns</p>\n",
       "</div>"
      ],
      "text/plain": [
       "     show_id     type                                    title  \\\n",
       "0         s1  TV Show                                       3%   \n",
       "1         s2    Movie                                     7:19   \n",
       "2         s3    Movie                                    23:59   \n",
       "3         s4    Movie                                        9   \n",
       "4         s5    Movie                                       21   \n",
       "...      ...      ...                                      ...   \n",
       "7782   s7783    Movie                                     Zozo   \n",
       "7783   s7784    Movie                                   Zubaan   \n",
       "7784   s7785    Movie                        Zulu Man in Japan   \n",
       "7785   s7786  TV Show                    Zumbo's Just Desserts   \n",
       "7786   s7787    Movie  ZZ TOP: THAT LITTLE OL' BAND FROM TEXAS   \n",
       "\n",
       "                                                country          date_added  \\\n",
       "0                                                Brazil     August 14, 2020   \n",
       "1                                                Mexico   December 23, 2016   \n",
       "2                                             Singapore   December 20, 2018   \n",
       "3                                         United States   November 16, 2017   \n",
       "4                                         United States     January 1, 2020   \n",
       "...                                                 ...                 ...   \n",
       "7782  Sweden, Czech Republic, United Kingdom, Denmar...    October 19, 2020   \n",
       "7783                                              India       March 2, 2019   \n",
       "7784                                                NaN  September 25, 2020   \n",
       "7785                                          Australia    October 31, 2020   \n",
       "7786              United Kingdom, Canada, United States       March 1, 2020   \n",
       "\n",
       "      release_year rating   duration  \\\n",
       "0             2020  TV-MA  4 Seasons   \n",
       "1             2016  TV-MA     93 min   \n",
       "2             2011      R     78 min   \n",
       "3             2009  PG-13     80 min   \n",
       "4             2008  PG-13    123 min   \n",
       "...            ...    ...        ...   \n",
       "7782          2005  TV-MA     99 min   \n",
       "7783          2015  TV-14    111 min   \n",
       "7784          2019  TV-MA     44 min   \n",
       "7785          2019  TV-PG   1 Season   \n",
       "7786          2019  TV-MA     90 min   \n",
       "\n",
       "                                              listed_in  \n",
       "0     International TV Shows, TV Dramas, TV Sci-Fi &...  \n",
       "1                          Dramas, International Movies  \n",
       "2                   Horror Movies, International Movies  \n",
       "3     Action & Adventure, Independent Movies, Sci-Fi...  \n",
       "4                                                Dramas  \n",
       "...                                                 ...  \n",
       "7782                       Dramas, International Movies  \n",
       "7783     Dramas, International Movies, Music & Musicals  \n",
       "7784  Documentaries, International Movies, Music & M...  \n",
       "7785                 International TV Shows, Reality TV  \n",
       "7786                    Documentaries, Music & Musicals  \n",
       "\n",
       "[7787 rows x 9 columns]"
      ]
     },
     "execution_count": 15,
     "metadata": {},
     "output_type": "execute_result"
    }
   ],
   "source": [
    "df_copy_netflix"
   ]
  },
  {
   "cell_type": "markdown",
   "metadata": {},
   "source": [
    "<P>Displaying the copy of our Netflix dataframe with the dropped columns.  Even though the country column had some missing entries, there were not enough of them missing that the column had to be dropped.  In fact, country might be useful in creating a graph showing the countries where the productions were filmed (even though most were filmed in the United States).</P>"
   ]
  },
  {
   "cell_type": "code",
   "execution_count": 16,
   "metadata": {},
   "outputs": [
    {
     "name": "stdout",
     "output_type": "stream",
     "text": [
      "<class 'pandas.core.frame.DataFrame'>\n",
      "RangeIndex: 7787 entries, 0 to 7786\n",
      "Data columns (total 9 columns):\n",
      " #   Column        Non-Null Count  Dtype \n",
      "---  ------        --------------  ----- \n",
      " 0   show_id       7787 non-null   object\n",
      " 1   type          7787 non-null   object\n",
      " 2   title         7787 non-null   object\n",
      " 3   country       7280 non-null   object\n",
      " 4   date_added    7777 non-null   object\n",
      " 5   release_year  7787 non-null   int64 \n",
      " 6   rating        7780 non-null   object\n",
      " 7   duration      7787 non-null   object\n",
      " 8   listed_in     7787 non-null   object\n",
      "dtypes: int64(1), object(8)\n",
      "memory usage: 547.6+ KB\n"
     ]
    }
   ],
   "source": [
    "df_copy_netflix.info()"
   ]
  },
  {
   "cell_type": "markdown",
   "metadata": {},
   "source": [
    "<P>How about delete the rows instead?</P>"
   ]
  },
  {
   "cell_type": "code",
   "execution_count": 17,
   "metadata": {},
   "outputs": [],
   "source": [
    "df_copy_netflix = df_copy_netflix.dropna(how='any', subset=['country'])"
   ]
  },
  {
   "cell_type": "markdown",
   "metadata": {},
   "source": [
    "<P>Now our data looks much better, as the number of Non-Null entries are at or around 7280.  We have a few entries in date_added and rating that are missing, but no more than ten for those two columns.  That should not present any challenges when evaluating our data.</P>"
   ]
  },
  {
   "cell_type": "code",
   "execution_count": 18,
   "metadata": {},
   "outputs": [
    {
     "name": "stdout",
     "output_type": "stream",
     "text": [
      "<class 'pandas.core.frame.DataFrame'>\n",
      "Int64Index: 7280 entries, 0 to 7786\n",
      "Data columns (total 9 columns):\n",
      " #   Column        Non-Null Count  Dtype \n",
      "---  ------        --------------  ----- \n",
      " 0   show_id       7280 non-null   object\n",
      " 1   type          7280 non-null   object\n",
      " 2   title         7280 non-null   object\n",
      " 3   country       7280 non-null   object\n",
      " 4   date_added    7271 non-null   object\n",
      " 5   release_year  7280 non-null   int64 \n",
      " 6   rating        7274 non-null   object\n",
      " 7   duration      7280 non-null   object\n",
      " 8   listed_in     7280 non-null   object\n",
      "dtypes: int64(1), object(8)\n",
      "memory usage: 568.8+ KB\n"
     ]
    }
   ],
   "source": [
    "df_copy_netflix.info()"
   ]
  },
  {
   "cell_type": "markdown",
   "metadata": {},
   "source": [
    "<H3>Exploratory Data Analysis</H3>\n",
    "\n",
    "<P><B>Question 1:  From our dataset of movies and TV shows available on Netflix:</B></P>\n",
    "\n",
    "<UL>\n",
    "    <LI>What are the Top 10 countries where those movies and TV shows were filmed?</LI>\n",
    "    <LI>Of the 7280 production titles (i.e., movies and TV shows) available in our new Netflix dataset, the majority came from which release year?</LI>\n",
    "</UL>"
   ]
  },
  {
   "cell_type": "markdown",
   "metadata": {},
   "source": [
    "<P>We already know most of those productions were filmed in the United States.  Let's create a bar graph that shows the countries and the number of productions for the United States and other countries.</P>"
   ]
  },
  {
   "cell_type": "code",
   "execution_count": 19,
   "metadata": {},
   "outputs": [],
   "source": [
    "# Store the data listing the top 10 countries in a variable called\n",
    "# top_10_countries\n",
    "top_10_countries = df_copy_netflix.country.value_counts()[:10]"
   ]
  },
  {
   "cell_type": "code",
   "execution_count": 20,
   "metadata": {},
   "outputs": [
    {
     "data": {
      "text/plain": [
       "United States     2555\n",
       "India              923\n",
       "United Kingdom     397\n",
       "Japan              226\n",
       "South Korea        183\n",
       "Canada             177\n",
       "Spain              134\n",
       "France             115\n",
       "Egypt              101\n",
       "Turkey             100\n",
       "Name: country, dtype: int64"
      ]
     },
     "execution_count": 20,
     "metadata": {},
     "output_type": "execute_result"
    }
   ],
   "source": [
    "# Display the data for top_10_countries\n",
    "top_10_countries"
   ]
  },
  {
   "cell_type": "code",
   "execution_count": 21,
   "metadata": {},
   "outputs": [
    {
     "data": {
      "image/png": "[encoded data removed]",
      "text/plain": [
       "<Figure size 864x576 with 1 Axes>"
      ]
     },
     "metadata": {
      "needs_background": "light"
     },
     "output_type": "display_data"
    }
   ],
   "source": [
    "# Create our bar graph\n",
    "plt.figure(figsize=(12,8))\n",
    "top_10_countries.plot(kind='bar', color = '#3399CC')\n",
    "plt.title(\"Number of Productions by Country\", fontsize = 14)\n",
    "plt.xlabel(\"Country\")\n",
    "plt.ylabel(\"Number of Productions\")\n",
    "plt.savefig('Number_of_Productions_Bar.png')\n",
    "plt.show()"
   ]
  },
  {
   "cell_type": "markdown",
   "metadata": {},
   "source": [
    "<P>Can we create this as a pie graph?  Yes!</P>"
   ]
  },
  {
   "cell_type": "code",
   "execution_count": 22,
   "metadata": {},
   "outputs": [
    {
     "data": {
      "image/png": "[encoded data removed]",
      "text/plain": [
       "<Figure size 864x864 with 1 Axes>"
      ]
     },
     "metadata": {},
     "output_type": "display_data"
    }
   ],
   "source": [
    "# Create our bar graph\n",
    "plt.figure(figsize=(12,12))\n",
    "top_10_countries.plot(kind='pie', autopct='%1.1f%%', shadow=True, startangle=45)\n",
    "plt.title(\"Number of Productions by Country\", fontsize = 14)\n",
    "plt.axis('equal')\n",
    "plt.savefig('Number_of_Productions_Pie.png')\n",
    "plt.show()"
   ]
  },
  {
   "cell_type": "markdown",
   "metadata": {},
   "source": [
    "<P>This pie graph shows that of the Top 10 Countries in our list, the United States produced a little more than half of the overall total productions of those Top 10 Countries.  In other words, if we added the productions for all ten countries in our list, the total would be 4,911.  The United States produced 2,555 of the titles, so 2,555/4,911 = 0.52026, or 52.0%.</P>"
   ]
  },
  {
   "cell_type": "markdown",
   "metadata": {},
   "source": [
    "<P>Now let's create a second bar graph that shows the release years and the number of production titles in the Netflix catalog by release year (for simplicity purposes, we will collect data going back 20 years).  An example of a production title would be the TV show \"Friends\" or the movie \"Star Wars\".</P>"
   ]
  },
  {
   "cell_type": "code",
   "execution_count": 23,
   "metadata": {},
   "outputs": [],
   "source": [
    "# Store the data listing the release years of production titles available on Netflix\n",
    "netflix_releases = df_copy_netflix.release_year.value_counts()[:20].sort_index(axis=0)"
   ]
  },
  {
   "cell_type": "code",
   "execution_count": 24,
   "metadata": {},
   "outputs": [
    {
     "data": {
      "text/plain": [
       "2001      35\n",
       "2002      45\n",
       "2003      47\n",
       "2004      58\n",
       "2005      72\n",
       "2006      85\n",
       "2007      84\n",
       "2008     121\n",
       "2009     132\n",
       "2010     162\n",
       "2011     163\n",
       "2012     208\n",
       "2013     257\n",
       "2014     315\n",
       "2015     502\n",
       "2016     820\n",
       "2017     958\n",
       "2018    1021\n",
       "2019     899\n",
       "2020     805\n",
       "Name: release_year, dtype: int64"
      ]
     },
     "execution_count": 24,
     "metadata": {},
     "output_type": "execute_result"
    }
   ],
   "source": [
    "netflix_releases"
   ]
  },
  {
   "cell_type": "markdown",
   "metadata": {},
   "source": [
    "<P>Based on our data, the number of production titles released in 2018 was the largest, whereas the number of production titles released in 2001 was the smallest.  In 2001, Netflix was mostly DVD sales and rental by mail.  Consumers were still unfamiliar with Netflix, as they were renting DVD and VHS movies at places such as Blockbuster Video.  Moreover, DVD was still a new media format, before Blu-Ray emerged in 2006.</P>\n",
    " \n",
    "<P>Netflix established a new business model in 2007, when it became the first of its kind in offering media streaming via an OTT (Over The Top) platform.  Netflix had remained the only streaming service available; however, the number of production titles that became available on Netflix started declining after 2018.  This is likely due to:</P>\n",
    "    \n",
    "<OL>\n",
    "<LI>Other streaming services such as Disney+, Paramount+, Amazon Prime, Peacock, etc. that competed against Netflix</LI>\n",
    "<LI>Popular production titles leaving Netflix due to contractual obligations or otherwise (e.g., canceled due to low ratings)</LI>\n",
    "<LI>Free OTT services such as Pluto TV, which broadcasted those same production titles</LI>\n",
    "</OL>\n",
    "\n",
    "<P>There is no direct correlation between the decline of production titles on Netflix and number of subscribers.  In other words, even though the number of production titles available on Netflix went down after 2018, it did not go down by a lot and the number of subscribers stayed largely the same.  It's possible that Netflix may have added more subscribers.</P>\n",
    "\n",
    "<P>Interestingly, the number of production titles available on Netflix in 2020 did not increase despite more people staying home due to COVID-19.  It declined, but not by a lot.  Disney+ was Netflix's biggest competitor in 2020, as it was adding production titles (some of which migrated from Netflix) and adding more subscribers.  In 2021, Disney+ reached 100 million subscribers, but Netflix still has over 200 million as of this writing.</P>\n",
    "\n",
    "<P>This graph does NOT display the number of movie and TV show titles available per year.  That will be covered in Question 3.</P>"
   ]
  },
  {
   "cell_type": "code",
   "execution_count": 25,
   "metadata": {},
   "outputs": [
    {
     "data": {
      "image/png": "[encoded data removed]",
      "text/plain": [
       "<Figure size 864x576 with 1 Axes>"
      ]
     },
     "metadata": {
      "needs_background": "light"
     },
     "output_type": "display_data"
    }
   ],
   "source": [
    "plt.figure(figsize=(12,8))\n",
    "netflix_releases.plot(kind='bar', color = '#CC3366')\n",
    "plt.title(\"Number of Production Titles Available on Netflix by Release Year\", fontsize=18)\n",
    "plt.xlabel(\"Release Year\", fontsize=14)\n",
    "plt.ylabel(\"Number of Production Titles\", fontsize=14)\n",
    "plt.savefig('Number_of_Production_Titles_Bar.png')\n",
    "plt.show()"
   ]
  },
  {
   "cell_type": "markdown",
   "metadata": {},
   "source": [
    "<P><B>Question 2:  Identify the categories for movies and TV shows in the Netflix dataset and plot a graph illustrating how many titles fall under each category.</B></P>"
   ]
  },
  {
   "cell_type": "markdown",
   "metadata": {},
   "source": [
    "<P>After browsing through the dataset, we decided on the following categories to use in our graph.  Please note that we are using the original Netflix dataset, not the newly created one used in Question 1:</P>\n",
    "\n",
    "<UL>\n",
    "<LI>Action & Adventure</LI>\n",
    "<LI>Anime</LI>\n",
    "<LI>Children & Family</LI>\n",
    "<LI>Classic Movies</LI>\n",
    "<LI>Comedy</LI>\n",
    "<LI>Crime & TV</LI>\n",
    "<LI>Documentaries</LI>\n",
    "<LI>Drama</LI>\n",
    "<LI>Horror</LI>\n",
    "<LI>International</LI>\n",
    "<LI>Kids' TV</LI>\n",
    "<LI>Sci-FI</LI>\n",
    "<LI>Thriller</LI>\n",
    "</UL>"
   ]
  },
  {
   "cell_type": "markdown",
   "metadata": {},
   "source": [
    "<P>For each category, we do a search for the category name and compile the number of titles under each category.  We store the numbers separately, but we also print out the numbers just to test our data and see that it is producing the results we expect.</P>"
   ]
  },
  {
   "cell_type": "code",
   "execution_count": 26,
   "metadata": {},
   "outputs": [],
   "source": [
    "# Create separate datasets for each category and count the number of titles that contain the string\n",
    "# Also some categories are listed as either singular (\"Comedy\") or plural (\"Comedies\"), so we do a\n",
    "# partial search of the string, to generate more results\n",
    "\n",
    "actionadventure = df_netflix[df_netflix['listed_in'].str.contains(\"Action & Advent\")].listed_in.count()\n",
    "anime = df_netflix[df_netflix['listed_in'].str.contains(\"Anime\")].listed_in.count()\n",
    "childrenandfamily = df_netflix[df_netflix['listed_in'].str.contains(\"Childr\")].listed_in.count()\n",
    "classicmovies = df_netflix[df_netflix['listed_in'].str.contains(\"Classic\")].listed_in.count()\n",
    "comedy = df_netflix[df_netflix['listed_in'].str.contains(\"Comed\")].listed_in.count()\n",
    "crimeandtv = df_netflix[df_netflix['listed_in'].str.contains(\"Crime\")].listed_in.count()\n",
    "documentaries = df_netflix[df_netflix['listed_in'].str.contains(\"Documenta\")].listed_in.count()\n",
    "drama = df_netflix[df_netflix['listed_in'].str.contains(\"Drama\")].listed_in.count()\n",
    "horror = df_netflix[df_netflix['listed_in'].str.contains(\"Horror\")].listed_in.count()\n",
    "international = df_netflix[df_netflix['listed_in'].str.contains(\"International\")].listed_in.count()\n",
    "kidstv = df_netflix[df_netflix['listed_in'].str.contains(\"Kids\")].listed_in.count()\n",
    "romance = df_netflix[df_netflix['listed_in'].str.contains(\"Roma\")].listed_in.count()\n",
    "scifi = df_netflix[df_netflix['listed_in'].str.contains(\"Sci-Fi & Fan\")].listed_in.count()\n",
    "thriller = df_netflix[df_netflix['listed_in'].str.contains(\"Thrill\")].listed_in.count()"
   ]
  },
  {
   "cell_type": "code",
   "execution_count": 27,
   "metadata": {},
   "outputs": [
    {
     "name": "stdout",
     "output_type": "stream",
     "text": [
      "There are 871 Action & Adventure titles in the dataset.\n"
     ]
    }
   ],
   "source": [
    "# Print the total number of Action & Adventure titles in the dataset\n",
    "print(\"There are\", actionadventure, \"Action & Adventure titles in the dataset.\")"
   ]
  },
  {
   "cell_type": "code",
   "execution_count": 28,
   "metadata": {},
   "outputs": [
    {
     "name": "stdout",
     "output_type": "stream",
     "text": [
      "For Classic Movies, we have a total of 130 titles in the dataset.\n"
     ]
    }
   ],
   "source": [
    "# Print the total number of Classic Movies titles in the dataset\n",
    "print(\"For Classic Movies, we have a total of\", classicmovies, \"titles in the dataset.\")"
   ]
  },
  {
   "cell_type": "code",
   "execution_count": 29,
   "metadata": {},
   "outputs": [
    {
     "name": "stdout",
     "output_type": "stream",
     "text": [
      "Sci-Fi & Fantasy has a total of 294 titles in the dataset.\n"
     ]
    }
   ],
   "source": [
    "# Print the total number of Sci-Fi & Fantasy titles in the dataset\n",
    "print(\"Sci-Fi & Fantasy has a total of\", scifi, \"titles in the dataset.\")"
   ]
  },
  {
   "cell_type": "code",
   "execution_count": 30,
   "metadata": {},
   "outputs": [
    {
     "name": "stdout",
     "output_type": "stream",
     "text": [
      "Here are the total number of titles for each category we wish to analyze.\n",
      "\n",
      "Note that it is possible that each title can fall into more than one category.\n",
      "\n",
      "Action & Adventure:  871\n",
      "Anime:  205\n",
      "Children & Family:  532\n",
      "Classic Movies:  130\n",
      "Comedy:  2344\n",
      "Crime & TV:  427\n",
      "Documentaries:  786\n",
      "Drama:  2810\n",
      "Horror:  381\n",
      "International:  3636\n",
      "Kids & TV:  414\n",
      "Romance:  864\n",
      "Sci-Fi:  294\n",
      "Thriller:  541\n"
     ]
    }
   ],
   "source": [
    "# Print the total number of titles for each category in the dataset\n",
    "print(\"Here are the total number of titles for each category we wish to analyze.\\n\")\n",
    "print(\"Note that it is possible that each title can fall into more than one category.\\n\")\n",
    "print(\"Action & Adventure: \", actionadventure)\n",
    "print(\"Anime: \", anime)\n",
    "print(\"Children & Family: \", childrenandfamily)\n",
    "print(\"Classic Movies: \", classicmovies)\n",
    "print(\"Comedy: \", comedy)\n",
    "print(\"Crime & TV: \", crimeandtv)\n",
    "print(\"Documentaries: \", documentaries)\n",
    "print(\"Drama: \", drama)\n",
    "print(\"Horror: \", horror)\n",
    "print(\"International: \", international)\n",
    "print(\"Kids & TV: \", kidstv)\n",
    "print(\"Romance: \", romance)\n",
    "print(\"Sci-Fi: \", scifi)\n",
    "print(\"Thriller: \", thriller)"
   ]
  },
  {
   "cell_type": "markdown",
   "metadata": {},
   "source": [
    "<P>Now that we have the numbers, we can use them to plot our graph as shown below.</P>"
   ]
  },
  {
   "cell_type": "code",
   "execution_count": 31,
   "metadata": {},
   "outputs": [
    {
     "data": {
      "image/png": "[encoded data removed]",
      "text/plain": [
       "<Figure size 1152x864 with 1 Axes>"
      ]
     },
     "metadata": {
      "needs_background": "light"
     },
     "output_type": "display_data"
    }
   ],
   "source": [
    "# Setting up our bar graph.  To make things easier, the categories are listed in reverse,\n",
    "# so that our graph presents the data properly\n",
    "\n",
    "categories =[\"Thriller\",\n",
    "             \"Sci-Fi & Fantasy\",\n",
    "             \"Kids\",\n",
    "             \"International\",\n",
    "             \"Horror\",\n",
    "             \"Drama\",\n",
    "             \"Documentaries\",\n",
    "             \"Crime & TV\",\n",
    "             \"Comedy\",\n",
    "             \"Classic Movies\",\n",
    "             \"Children & Family\",\n",
    "             \"Anime\",\n",
    "             \"Action & Adventure\"]\n",
    "totals = [thriller,\n",
    "          scifi,\n",
    "          kidstv,\n",
    "          international,\n",
    "          horror,\n",
    "          drama,\n",
    "          documentaries,\n",
    "          crimeandtv,\n",
    "          comedy,\n",
    "          classicmovies,\n",
    "          childrenandfamily,\n",
    "          anime,\n",
    "          actionadventure]\n",
    "\n",
    "\n",
    "# Create the graph using commands from matplotlib library\n",
    "plt.figure(figsize=(16,12))\n",
    "plt.barh(categories, totals, color='#66CC66')\n",
    "plt.title(\"Categories vs. Titles\", fontsize=18)\n",
    "plt.xlabel(\"Number Of Titles\", fontsize=14)\n",
    "plt.ylabel(\"Netflix Movie/TV Categories\", fontsize=14)\n",
    "plt.savefig('Netflix_Movie_TV_Categories.png')\n",
    "plt.show()"
   ]
  },
  {
   "cell_type": "markdown",
   "metadata": {},
   "source": [
    "<P>Based on this graph, International had the most titles at 3636, while Anime had the smallest at 205.</P>"
   ]
  },
  {
   "cell_type": "markdown",
   "metadata": {},
   "source": [
    "<P><B>Question 3:  Create a graph that shows the number of Movies and TV shows added to Netflix each year.</B></P>"
   ]
  },
  {
   "cell_type": "markdown",
   "metadata": {},
   "source": [
    "<P>To answer this question, let's continue to work with our original Netflix dataset.</P>"
   ]
  },
  {
   "cell_type": "code",
   "execution_count": 32,
   "metadata": {},
   "outputs": [
    {
     "data": {
      "text/html": [
       "<div>\n",
       "<style scoped>\n",
       "    .dataframe tbody tr th:only-of-type {\n",
       "        vertical-align: middle;\n",
       "    }\n",
       "\n",
       "    .dataframe tbody tr th {\n",
       "        vertical-align: top;\n",
       "    }\n",
       "\n",
       "    .dataframe thead th {\n",
       "        text-align: right;\n",
       "    }\n",
       "</style>\n",
       "<table border=\"1\" class=\"dataframe\">\n",
       "  <thead>\n",
       "    <tr style=\"text-align: right;\">\n",
       "      <th></th>\n",
       "      <th>show_id</th>\n",
       "      <th>type</th>\n",
       "      <th>title</th>\n",
       "      <th>director</th>\n",
       "      <th>cast</th>\n",
       "      <th>country</th>\n",
       "      <th>date_added</th>\n",
       "      <th>release_year</th>\n",
       "      <th>rating</th>\n",
       "      <th>duration</th>\n",
       "      <th>listed_in</th>\n",
       "      <th>description</th>\n",
       "    </tr>\n",
       "  </thead>\n",
       "  <tbody>\n",
       "    <tr>\n",
       "      <th>0</th>\n",
       "      <td>s1</td>\n",
       "      <td>TV Show</td>\n",
       "      <td>3%</td>\n",
       "      <td>NaN</td>\n",
       "      <td>João Miguel, Bianca Comparato, Michel Gomes, R...</td>\n",
       "      <td>Brazil</td>\n",
       "      <td>August 14, 2020</td>\n",
       "      <td>2020</td>\n",
       "      <td>TV-MA</td>\n",
       "      <td>4 Seasons</td>\n",
       "      <td>International TV Shows, TV Dramas, TV Sci-Fi &amp;...</td>\n",
       "      <td>In a future where the elite inhabit an island ...</td>\n",
       "    </tr>\n",
       "    <tr>\n",
       "      <th>1</th>\n",
       "      <td>s2</td>\n",
       "      <td>Movie</td>\n",
       "      <td>7:19</td>\n",
       "      <td>Jorge Michel Grau</td>\n",
       "      <td>Demián Bichir, Héctor Bonilla, Oscar Serrano, ...</td>\n",
       "      <td>Mexico</td>\n",
       "      <td>December 23, 2016</td>\n",
       "      <td>2016</td>\n",
       "      <td>TV-MA</td>\n",
       "      <td>93 min</td>\n",
       "      <td>Dramas, International Movies</td>\n",
       "      <td>After a devastating earthquake hits Mexico Cit...</td>\n",
       "    </tr>\n",
       "    <tr>\n",
       "      <th>2</th>\n",
       "      <td>s3</td>\n",
       "      <td>Movie</td>\n",
       "      <td>23:59</td>\n",
       "      <td>Gilbert Chan</td>\n",
       "      <td>Tedd Chan, Stella Chung, Henley Hii, Lawrence ...</td>\n",
       "      <td>Singapore</td>\n",
       "      <td>December 20, 2018</td>\n",
       "      <td>2011</td>\n",
       "      <td>R</td>\n",
       "      <td>78 min</td>\n",
       "      <td>Horror Movies, International Movies</td>\n",
       "      <td>When an army recruit is found dead, his fellow...</td>\n",
       "    </tr>\n",
       "    <tr>\n",
       "      <th>3</th>\n",
       "      <td>s4</td>\n",
       "      <td>Movie</td>\n",
       "      <td>9</td>\n",
       "      <td>Shane Acker</td>\n",
       "      <td>Elijah Wood, John C. Reilly, Jennifer Connelly...</td>\n",
       "      <td>United States</td>\n",
       "      <td>November 16, 2017</td>\n",
       "      <td>2009</td>\n",
       "      <td>PG-13</td>\n",
       "      <td>80 min</td>\n",
       "      <td>Action &amp; Adventure, Independent Movies, Sci-Fi...</td>\n",
       "      <td>In a postapocalyptic world, rag-doll robots hi...</td>\n",
       "    </tr>\n",
       "    <tr>\n",
       "      <th>4</th>\n",
       "      <td>s5</td>\n",
       "      <td>Movie</td>\n",
       "      <td>21</td>\n",
       "      <td>Robert Luketic</td>\n",
       "      <td>Jim Sturgess, Kevin Spacey, Kate Bosworth, Aar...</td>\n",
       "      <td>United States</td>\n",
       "      <td>January 1, 2020</td>\n",
       "      <td>2008</td>\n",
       "      <td>PG-13</td>\n",
       "      <td>123 min</td>\n",
       "      <td>Dramas</td>\n",
       "      <td>A brilliant group of students become card-coun...</td>\n",
       "    </tr>\n",
       "    <tr>\n",
       "      <th>...</th>\n",
       "      <td>...</td>\n",
       "      <td>...</td>\n",
       "      <td>...</td>\n",
       "      <td>...</td>\n",
       "      <td>...</td>\n",
       "      <td>...</td>\n",
       "      <td>...</td>\n",
       "      <td>...</td>\n",
       "      <td>...</td>\n",
       "      <td>...</td>\n",
       "      <td>...</td>\n",
       "      <td>...</td>\n",
       "    </tr>\n",
       "    <tr>\n",
       "      <th>7782</th>\n",
       "      <td>s7783</td>\n",
       "      <td>Movie</td>\n",
       "      <td>Zozo</td>\n",
       "      <td>Josef Fares</td>\n",
       "      <td>Imad Creidi, Antoinette Turk, Elias Gergi, Car...</td>\n",
       "      <td>Sweden, Czech Republic, United Kingdom, Denmar...</td>\n",
       "      <td>October 19, 2020</td>\n",
       "      <td>2005</td>\n",
       "      <td>TV-MA</td>\n",
       "      <td>99 min</td>\n",
       "      <td>Dramas, International Movies</td>\n",
       "      <td>When Lebanon's Civil War deprives Zozo of his ...</td>\n",
       "    </tr>\n",
       "    <tr>\n",
       "      <th>7783</th>\n",
       "      <td>s7784</td>\n",
       "      <td>Movie</td>\n",
       "      <td>Zubaan</td>\n",
       "      <td>Mozez Singh</td>\n",
       "      <td>Vicky Kaushal, Sarah-Jane Dias, Raaghav Chanan...</td>\n",
       "      <td>India</td>\n",
       "      <td>March 2, 2019</td>\n",
       "      <td>2015</td>\n",
       "      <td>TV-14</td>\n",
       "      <td>111 min</td>\n",
       "      <td>Dramas, International Movies, Music &amp; Musicals</td>\n",
       "      <td>A scrappy but poor boy worms his way into a ty...</td>\n",
       "    </tr>\n",
       "    <tr>\n",
       "      <th>7784</th>\n",
       "      <td>s7785</td>\n",
       "      <td>Movie</td>\n",
       "      <td>Zulu Man in Japan</td>\n",
       "      <td>NaN</td>\n",
       "      <td>Nasty C</td>\n",
       "      <td>NaN</td>\n",
       "      <td>September 25, 2020</td>\n",
       "      <td>2019</td>\n",
       "      <td>TV-MA</td>\n",
       "      <td>44 min</td>\n",
       "      <td>Documentaries, International Movies, Music &amp; M...</td>\n",
       "      <td>In this documentary, South African rapper Nast...</td>\n",
       "    </tr>\n",
       "    <tr>\n",
       "      <th>7785</th>\n",
       "      <td>s7786</td>\n",
       "      <td>TV Show</td>\n",
       "      <td>Zumbo's Just Desserts</td>\n",
       "      <td>NaN</td>\n",
       "      <td>Adriano Zumbo, Rachel Khoo</td>\n",
       "      <td>Australia</td>\n",
       "      <td>October 31, 2020</td>\n",
       "      <td>2019</td>\n",
       "      <td>TV-PG</td>\n",
       "      <td>1 Season</td>\n",
       "      <td>International TV Shows, Reality TV</td>\n",
       "      <td>Dessert wizard Adriano Zumbo looks for the nex...</td>\n",
       "    </tr>\n",
       "    <tr>\n",
       "      <th>7786</th>\n",
       "      <td>s7787</td>\n",
       "      <td>Movie</td>\n",
       "      <td>ZZ TOP: THAT LITTLE OL' BAND FROM TEXAS</td>\n",
       "      <td>Sam Dunn</td>\n",
       "      <td>NaN</td>\n",
       "      <td>United Kingdom, Canada, United States</td>\n",
       "      <td>March 1, 2020</td>\n",
       "      <td>2019</td>\n",
       "      <td>TV-MA</td>\n",
       "      <td>90 min</td>\n",
       "      <td>Documentaries, Music &amp; Musicals</td>\n",
       "      <td>This documentary delves into the mystique behi...</td>\n",
       "    </tr>\n",
       "  </tbody>\n",
       "</table>\n",
       "<p>7787 rows × 12 columns</p>\n",
       "</div>"
      ],
      "text/plain": [
       "     show_id     type                                    title  \\\n",
       "0         s1  TV Show                                       3%   \n",
       "1         s2    Movie                                     7:19   \n",
       "2         s3    Movie                                    23:59   \n",
       "3         s4    Movie                                        9   \n",
       "4         s5    Movie                                       21   \n",
       "...      ...      ...                                      ...   \n",
       "7782   s7783    Movie                                     Zozo   \n",
       "7783   s7784    Movie                                   Zubaan   \n",
       "7784   s7785    Movie                        Zulu Man in Japan   \n",
       "7785   s7786  TV Show                    Zumbo's Just Desserts   \n",
       "7786   s7787    Movie  ZZ TOP: THAT LITTLE OL' BAND FROM TEXAS   \n",
       "\n",
       "               director                                               cast  \\\n",
       "0                   NaN  João Miguel, Bianca Comparato, Michel Gomes, R...   \n",
       "1     Jorge Michel Grau  Demián Bichir, Héctor Bonilla, Oscar Serrano, ...   \n",
       "2          Gilbert Chan  Tedd Chan, Stella Chung, Henley Hii, Lawrence ...   \n",
       "3           Shane Acker  Elijah Wood, John C. Reilly, Jennifer Connelly...   \n",
       "4        Robert Luketic  Jim Sturgess, Kevin Spacey, Kate Bosworth, Aar...   \n",
       "...                 ...                                                ...   \n",
       "7782        Josef Fares  Imad Creidi, Antoinette Turk, Elias Gergi, Car...   \n",
       "7783        Mozez Singh  Vicky Kaushal, Sarah-Jane Dias, Raaghav Chanan...   \n",
       "7784                NaN                                            Nasty C   \n",
       "7785                NaN                         Adriano Zumbo, Rachel Khoo   \n",
       "7786           Sam Dunn                                                NaN   \n",
       "\n",
       "                                                country          date_added  \\\n",
       "0                                                Brazil     August 14, 2020   \n",
       "1                                                Mexico   December 23, 2016   \n",
       "2                                             Singapore   December 20, 2018   \n",
       "3                                         United States   November 16, 2017   \n",
       "4                                         United States     January 1, 2020   \n",
       "...                                                 ...                 ...   \n",
       "7782  Sweden, Czech Republic, United Kingdom, Denmar...    October 19, 2020   \n",
       "7783                                              India       March 2, 2019   \n",
       "7784                                                NaN  September 25, 2020   \n",
       "7785                                          Australia    October 31, 2020   \n",
       "7786              United Kingdom, Canada, United States       March 1, 2020   \n",
       "\n",
       "      release_year rating   duration  \\\n",
       "0             2020  TV-MA  4 Seasons   \n",
       "1             2016  TV-MA     93 min   \n",
       "2             2011      R     78 min   \n",
       "3             2009  PG-13     80 min   \n",
       "4             2008  PG-13    123 min   \n",
       "...            ...    ...        ...   \n",
       "7782          2005  TV-MA     99 min   \n",
       "7783          2015  TV-14    111 min   \n",
       "7784          2019  TV-MA     44 min   \n",
       "7785          2019  TV-PG   1 Season   \n",
       "7786          2019  TV-MA     90 min   \n",
       "\n",
       "                                              listed_in  \\\n",
       "0     International TV Shows, TV Dramas, TV Sci-Fi &...   \n",
       "1                          Dramas, International Movies   \n",
       "2                   Horror Movies, International Movies   \n",
       "3     Action & Adventure, Independent Movies, Sci-Fi...   \n",
       "4                                                Dramas   \n",
       "...                                                 ...   \n",
       "7782                       Dramas, International Movies   \n",
       "7783     Dramas, International Movies, Music & Musicals   \n",
       "7784  Documentaries, International Movies, Music & M...   \n",
       "7785                 International TV Shows, Reality TV   \n",
       "7786                    Documentaries, Music & Musicals   \n",
       "\n",
       "                                            description  \n",
       "0     In a future where the elite inhabit an island ...  \n",
       "1     After a devastating earthquake hits Mexico Cit...  \n",
       "2     When an army recruit is found dead, his fellow...  \n",
       "3     In a postapocalyptic world, rag-doll robots hi...  \n",
       "4     A brilliant group of students become card-coun...  \n",
       "...                                                 ...  \n",
       "7782  When Lebanon's Civil War deprives Zozo of his ...  \n",
       "7783  A scrappy but poor boy worms his way into a ty...  \n",
       "7784  In this documentary, South African rapper Nast...  \n",
       "7785  Dessert wizard Adriano Zumbo looks for the nex...  \n",
       "7786  This documentary delves into the mystique behi...  \n",
       "\n",
       "[7787 rows x 12 columns]"
      ]
     },
     "execution_count": 32,
     "metadata": {},
     "output_type": "execute_result"
    }
   ],
   "source": [
    "df_netflix"
   ]
  },
  {
   "cell_type": "markdown",
   "metadata": {},
   "source": [
    "<P>Now let's obtain a count of movies and TV shows in our dataset.</P>"
   ]
  },
  {
   "cell_type": "code",
   "execution_count": 33,
   "metadata": {},
   "outputs": [
    {
     "name": "stdout",
     "output_type": "stream",
     "text": [
      "Number of Movies in our original Netflix dataset:  5377\n",
      "Number of TV Shows in our original Netflix dataset:  2410\n"
     ]
    }
   ],
   "source": [
    "netflix_movies = df_netflix[df_netflix['type'].str.contains(\"Movie\")].type.count()\n",
    "netflix_tv = df_netflix[df_netflix['type'].str.contains(\"TV Show\")].type.count()\n",
    "\n",
    "print(\"Number of Movies in our original Netflix dataset: \", netflix_movies)\n",
    "print(\"Number of TV Shows in our original Netflix dataset: \", netflix_tv)"
   ]
  },
  {
   "cell_type": "markdown",
   "metadata": {},
   "source": [
    "<P>What we will do is print out the number of Movies and TV Shows available on Netflix since 2008.  We will use a series of commands.  The first and most apparent one is a command called slice, where we want to parse the year from the formal date.  In other words, we will take a date such as \"August 19, 2020\" and use slice to get 2020, then store the year under year_added.</P>"
   ]
  },
  {
   "cell_type": "code",
   "execution_count": 34,
   "metadata": {},
   "outputs": [
    {
     "data": {
      "text/html": [
       "<div>\n",
       "<style scoped>\n",
       "    .dataframe tbody tr th:only-of-type {\n",
       "        vertical-align: middle;\n",
       "    }\n",
       "\n",
       "    .dataframe tbody tr th {\n",
       "        vertical-align: top;\n",
       "    }\n",
       "\n",
       "    .dataframe thead th {\n",
       "        text-align: right;\n",
       "    }\n",
       "</style>\n",
       "<table border=\"1\" class=\"dataframe\">\n",
       "  <thead>\n",
       "    <tr style=\"text-align: right;\">\n",
       "      <th></th>\n",
       "      <th>Year</th>\n",
       "      <th>Movie</th>\n",
       "      <th>TVshow</th>\n",
       "    </tr>\n",
       "  </thead>\n",
       "  <tbody>\n",
       "    <tr>\n",
       "      <th>0</th>\n",
       "      <td>2008</td>\n",
       "      <td>1.0</td>\n",
       "      <td>1.0</td>\n",
       "    </tr>\n",
       "    <tr>\n",
       "      <th>1</th>\n",
       "      <td>2009</td>\n",
       "      <td>2.0</td>\n",
       "      <td>0.0</td>\n",
       "    </tr>\n",
       "    <tr>\n",
       "      <th>2</th>\n",
       "      <td>2010</td>\n",
       "      <td>1.0</td>\n",
       "      <td>0.0</td>\n",
       "    </tr>\n",
       "    <tr>\n",
       "      <th>3</th>\n",
       "      <td>2011</td>\n",
       "      <td>13.0</td>\n",
       "      <td>0.0</td>\n",
       "    </tr>\n",
       "    <tr>\n",
       "      <th>4</th>\n",
       "      <td>2012</td>\n",
       "      <td>3.0</td>\n",
       "      <td>0.0</td>\n",
       "    </tr>\n",
       "    <tr>\n",
       "      <th>5</th>\n",
       "      <td>2013</td>\n",
       "      <td>6.0</td>\n",
       "      <td>5.0</td>\n",
       "    </tr>\n",
       "    <tr>\n",
       "      <th>6</th>\n",
       "      <td>2014</td>\n",
       "      <td>19.0</td>\n",
       "      <td>6.0</td>\n",
       "    </tr>\n",
       "    <tr>\n",
       "      <th>7</th>\n",
       "      <td>2015</td>\n",
       "      <td>58.0</td>\n",
       "      <td>30.0</td>\n",
       "    </tr>\n",
       "    <tr>\n",
       "      <th>8</th>\n",
       "      <td>2016</td>\n",
       "      <td>258.0</td>\n",
       "      <td>185.0</td>\n",
       "    </tr>\n",
       "    <tr>\n",
       "      <th>9</th>\n",
       "      <td>2017</td>\n",
       "      <td>864.0</td>\n",
       "      <td>361.0</td>\n",
       "    </tr>\n",
       "    <tr>\n",
       "      <th>10</th>\n",
       "      <td>2018</td>\n",
       "      <td>1255.0</td>\n",
       "      <td>430.0</td>\n",
       "    </tr>\n",
       "    <tr>\n",
       "      <th>11</th>\n",
       "      <td>2019</td>\n",
       "      <td>1497.0</td>\n",
       "      <td>656.0</td>\n",
       "    </tr>\n",
       "    <tr>\n",
       "      <th>12</th>\n",
       "      <td>2020</td>\n",
       "      <td>1312.0</td>\n",
       "      <td>697.0</td>\n",
       "    </tr>\n",
       "    <tr>\n",
       "      <th>13</th>\n",
       "      <td>2021</td>\n",
       "      <td>88.0</td>\n",
       "      <td>29.0</td>\n",
       "    </tr>\n",
       "  </tbody>\n",
       "</table>\n",
       "</div>"
      ],
      "text/plain": [
       "    Year   Movie  TVshow\n",
       "0   2008     1.0     1.0\n",
       "1   2009     2.0     0.0\n",
       "2   2010     1.0     0.0\n",
       "3   2011    13.0     0.0\n",
       "4   2012     3.0     0.0\n",
       "5   2013     6.0     5.0\n",
       "6   2014    19.0     6.0\n",
       "7   2015    58.0    30.0\n",
       "8   2016   258.0   185.0\n",
       "9   2017   864.0   361.0\n",
       "10  2018  1255.0   430.0\n",
       "11  2019  1497.0   656.0\n",
       "12  2020  1312.0   697.0\n",
       "13  2021    88.0    29.0"
      ]
     },
     "execution_count": 34,
     "metadata": {},
     "output_type": "execute_result"
    }
   ],
   "source": [
    "df_netflix['year_added'] = df_netflix['date_added'].str.slice(start=-4)\n",
    "netflix_movies_and_tvshows = df_netflix.groupby(['year_added', 'type'], as_index=False).show_id.count()\n",
    "netflix_movies_and_tvshows.columns = ['year_added', 'type', 'count']\n",
    "netflix_movies_and_tvshows = netflix_movies_and_tvshows.pivot(index='year_added', columns='type', values='count').reset_index()\n",
    "netflix_movies_and_tvshows.fillna(0, inplace = True)\n",
    "\n",
    "# Create a DataFrame called netflix_data that contains the year, number of movies, and number of TV shows\n",
    "netflix_data = pd.DataFrame(dict(Year   = netflix_movies_and_tvshows['year_added'],\n",
    "                                 Movie  = netflix_movies_and_tvshows['Movie'],\n",
    "                                 TVshow = netflix_movies_and_tvshows['TV Show']))\n",
    "\n",
    "# Display the dataset for the new netflix_data Dataframe\n",
    "netflix_data"
   ]
  },
  {
   "cell_type": "markdown",
   "metadata": {},
   "source": [
    "<P>How does this compare to our copy dataset that we used in Question 1?</P>"
   ]
  },
  {
   "cell_type": "code",
   "execution_count": 35,
   "metadata": {},
   "outputs": [
    {
     "name": "stderr",
     "output_type": "stream",
     "text": [
      "/home/jupyterlab/conda/envs/python/lib/python3.6/site-packages/ipykernel_launcher.py:1: SettingWithCopyWarning: \n",
      "A value is trying to be set on a copy of a slice from a DataFrame.\n",
      "Try using .loc[row_indexer,col_indexer] = value instead\n",
      "\n",
      "See the caveats in the documentation: https://pandas.pydata.org/pandas-docs/stable/user_guide/indexing.html#returning-a-view-versus-a-copy\n",
      "  \"\"\"Entry point for launching an IPython kernel.\n"
     ]
    },
    {
     "data": {
      "text/html": [
       "<div>\n",
       "<style scoped>\n",
       "    .dataframe tbody tr th:only-of-type {\n",
       "        vertical-align: middle;\n",
       "    }\n",
       "\n",
       "    .dataframe tbody tr th {\n",
       "        vertical-align: top;\n",
       "    }\n",
       "\n",
       "    .dataframe thead th {\n",
       "        text-align: right;\n",
       "    }\n",
       "</style>\n",
       "<table border=\"1\" class=\"dataframe\">\n",
       "  <thead>\n",
       "    <tr style=\"text-align: right;\">\n",
       "      <th></th>\n",
       "      <th>Year</th>\n",
       "      <th>Movie</th>\n",
       "      <th>TVshow</th>\n",
       "    </tr>\n",
       "  </thead>\n",
       "  <tbody>\n",
       "    <tr>\n",
       "      <th>0</th>\n",
       "      <td>2008</td>\n",
       "      <td>1.0</td>\n",
       "      <td>1.0</td>\n",
       "    </tr>\n",
       "    <tr>\n",
       "      <th>1</th>\n",
       "      <td>2009</td>\n",
       "      <td>2.0</td>\n",
       "      <td>0.0</td>\n",
       "    </tr>\n",
       "    <tr>\n",
       "      <th>2</th>\n",
       "      <td>2010</td>\n",
       "      <td>1.0</td>\n",
       "      <td>0.0</td>\n",
       "    </tr>\n",
       "    <tr>\n",
       "      <th>3</th>\n",
       "      <td>2011</td>\n",
       "      <td>13.0</td>\n",
       "      <td>0.0</td>\n",
       "    </tr>\n",
       "    <tr>\n",
       "      <th>4</th>\n",
       "      <td>2012</td>\n",
       "      <td>3.0</td>\n",
       "      <td>0.0</td>\n",
       "    </tr>\n",
       "    <tr>\n",
       "      <th>5</th>\n",
       "      <td>2013</td>\n",
       "      <td>6.0</td>\n",
       "      <td>5.0</td>\n",
       "    </tr>\n",
       "    <tr>\n",
       "      <th>6</th>\n",
       "      <td>2014</td>\n",
       "      <td>19.0</td>\n",
       "      <td>6.0</td>\n",
       "    </tr>\n",
       "    <tr>\n",
       "      <th>7</th>\n",
       "      <td>2015</td>\n",
       "      <td>54.0</td>\n",
       "      <td>29.0</td>\n",
       "    </tr>\n",
       "    <tr>\n",
       "      <th>8</th>\n",
       "      <td>2016</td>\n",
       "      <td>249.0</td>\n",
       "      <td>175.0</td>\n",
       "    </tr>\n",
       "    <tr>\n",
       "      <th>9</th>\n",
       "      <td>2017</td>\n",
       "      <td>839.0</td>\n",
       "      <td>320.0</td>\n",
       "    </tr>\n",
       "    <tr>\n",
       "      <th>10</th>\n",
       "      <td>2018</td>\n",
       "      <td>1209.0</td>\n",
       "      <td>354.0</td>\n",
       "    </tr>\n",
       "    <tr>\n",
       "      <th>11</th>\n",
       "      <td>2019</td>\n",
       "      <td>1422.0</td>\n",
       "      <td>571.0</td>\n",
       "    </tr>\n",
       "    <tr>\n",
       "      <th>12</th>\n",
       "      <td>2020</td>\n",
       "      <td>1251.0</td>\n",
       "      <td>639.0</td>\n",
       "    </tr>\n",
       "    <tr>\n",
       "      <th>13</th>\n",
       "      <td>2021</td>\n",
       "      <td>78.0</td>\n",
       "      <td>24.0</td>\n",
       "    </tr>\n",
       "  </tbody>\n",
       "</table>\n",
       "</div>"
      ],
      "text/plain": [
       "    Year   Movie  TVshow\n",
       "0   2008     1.0     1.0\n",
       "1   2009     2.0     0.0\n",
       "2   2010     1.0     0.0\n",
       "3   2011    13.0     0.0\n",
       "4   2012     3.0     0.0\n",
       "5   2013     6.0     5.0\n",
       "6   2014    19.0     6.0\n",
       "7   2015    54.0    29.0\n",
       "8   2016   249.0   175.0\n",
       "9   2017   839.0   320.0\n",
       "10  2018  1209.0   354.0\n",
       "11  2019  1422.0   571.0\n",
       "12  2020  1251.0   639.0\n",
       "13  2021    78.0    24.0"
      ]
     },
     "execution_count": 35,
     "metadata": {},
     "output_type": "execute_result"
    }
   ],
   "source": [
    "df_copy_netflix['year_added'] = df_copy_netflix['date_added'].str.slice(start=-4)\n",
    "netflix_copy_movies_and_tvshows = df_copy_netflix.groupby(['year_added', 'type'], as_index=False).show_id.count()\n",
    "netflix_copy_movies_and_tvshows.columns = ['year_added', 'type', 'count']\n",
    "netflix_copy_movies_and_tvshows = netflix_copy_movies_and_tvshows.pivot(index='year_added',\n",
    "                                                              columns='type',\n",
    "                                                              values='count').reset_index()\n",
    "netflix_copy_movies_and_tvshows.fillna(0, inplace = True)\n",
    "\n",
    "# Create a DataFrame called netflix_copy_data that contains the year, number of movies, and number of TV shows\n",
    "netflix_copy_data = pd.DataFrame(dict(Year   = netflix_copy_movies_and_tvshows['year_added'],\n",
    "                                      Movie  = netflix_copy_movies_and_tvshows['Movie'],\n",
    "                                      TVshow = netflix_copy_movies_and_tvshows['TV Show']))\n",
    "\n",
    "# Display the dataset for the new netflix_copy_data Dataframe\n",
    "netflix_copy_data"
   ]
  },
  {
   "cell_type": "markdown",
   "metadata": {},
   "source": [
    "<P>In both instances, the year is stored as a character string object.  The values for movie and TVshow are float64, which are numerical and necessary to plot our data properly.</P>"
   ]
  },
  {
   "cell_type": "code",
   "execution_count": 36,
   "metadata": {},
   "outputs": [
    {
     "name": "stdout",
     "output_type": "stream",
     "text": [
      "<class 'pandas.core.frame.DataFrame'>\n",
      "RangeIndex: 14 entries, 0 to 13\n",
      "Data columns (total 3 columns):\n",
      " #   Column  Non-Null Count  Dtype  \n",
      "---  ------  --------------  -----  \n",
      " 0   Year    14 non-null     object \n",
      " 1   Movie   14 non-null     float64\n",
      " 2   TVshow  14 non-null     float64\n",
      "dtypes: float64(2), object(1)\n",
      "memory usage: 464.0+ bytes\n"
     ]
    }
   ],
   "source": [
    "# Get the info about the netflix_data DataFrame\n",
    "netflix_data.info()"
   ]
  },
  {
   "cell_type": "markdown",
   "metadata": {},
   "source": [
    "<P>Now that we have some background information on our dataset, it's time to plot our data and create our graph using our dataframe df_netflix.</P>"
   ]
  },
  {
   "cell_type": "code",
   "execution_count": 37,
   "metadata": {},
   "outputs": [
    {
     "data": {
      "image/png": "[encoded data removed]",
      "text/plain": [
       "<Figure size 1152x1152 with 1 Axes>"
      ]
     },
     "metadata": {
      "needs_background": "light"
     },
     "output_type": "display_data"
    }
   ],
   "source": [
    "ind = np.arange(len(netflix_data))\n",
    "width = 0.36\n",
    "\n",
    "fig1, ax1 = plt.subplots()\n",
    "ax1.barh(ind, netflix_data.Movie, width, color='#3399FF', label=\"Movies\")\n",
    "ax1.barh(ind + width, netflix_data.TVshow, width, color='#9966CC', label=\"TV Shows\")\n",
    "\n",
    "ax1.set(yticks=ind + width, yticklabels=netflix_data.Year, ylim=[2*width - 1, len(netflix_data)])\n",
    "ax1.set_title(\"Number of Movies and TV Shows added to Netflix (by year).  df_netflix\", fontsize=18)\n",
    "ax1.set_ylabel(\"Year added to Netflix\", fontsize=14)\n",
    "ax1.set_xlabel(\"Number of Movies and TV Shows\", fontsize=14)\n",
    "ax1.legend()\n",
    "\n",
    "fig1.set_size_inches(16, 16)\n",
    "plt.savefig('Number_of_Movies_TV_DF1.png')\n",
    "plt.show()"
   ]
  },
  {
   "cell_type": "markdown",
   "metadata": {},
   "source": [
    "<P>This same graph using our dataset df_copy_netflix:</P>"
   ]
  },
  {
   "cell_type": "code",
   "execution_count": 38,
   "metadata": {},
   "outputs": [
    {
     "data": {
      "image/png": "[encoded data removed]",
      "text/plain": [
       "<Figure size 1152x1152 with 1 Axes>"
      ]
     },
     "metadata": {
      "needs_background": "light"
     },
     "output_type": "display_data"
    }
   ],
   "source": [
    "ind = np.arange(len(netflix_copy_data))\n",
    "width = 0.36\n",
    "\n",
    "fig2, ax2 = plt.subplots()\n",
    "ax2.barh(ind, netflix_copy_data.Movie, width, color='#66CCFF', label=\"Movies\")\n",
    "ax2.barh(ind + width, netflix_copy_data.TVshow, width, color='#CC99FF', label=\"TV Shows\")\n",
    "\n",
    "ax2.set(yticks=ind + width, yticklabels=netflix_copy_data.Year, ylim=[2*width - 1, len(netflix_copy_data)])\n",
    "ax2.set_title(\"Number of Movies and TV Shows added to Netflix (by year).  df_copy_netflix\", fontsize=18)\n",
    "ax2.set_ylabel(\"Year added to Netflix\", fontsize=14)\n",
    "ax2.set_xlabel(\"Number of Movies and TV Shows\", fontsize=14)\n",
    "ax2.legend()\n",
    "\n",
    "fig2.set_size_inches(16, 16)\n",
    "plt.savefig('Number_of_Movies_TV_DF2.png')\n",
    "plt.show()"
   ]
  },
  {
   "cell_type": "markdown",
   "metadata": {},
   "source": [
    "<P>In both instances, our graphs were horizontal bar charts.</P>\n",
    "\n",
    "<P>From this data, we can make the following conclusions:</P>\n",
    "\n",
    "<UL>\n",
    "    <LI>Even though the new dataset (df_copy_netflix) eliminated some rows from the original dataset (df_netflix), it did not result in anything significant with our findings.  We did not see, for instance, the number of TV shows exceed the number of movies in any given year.</LI>\n",
    "    <LI>Netflix had one Movie and one TV Show available for streaming in 2008. This was because streaming media was an emerging technology at the time and Netflix was the first to adopt what we now know as OTT (Over The Top). High Speed Internet Access (i.e., HSIA or broadband access) was still not widely available, and Netflix was still a DVD rental service.</LI>\n",
    "    <LI>The iPhone was the first smartphone invented (and we probably remember that presentation where the late Steve Jobs introduced it during the Macworld San Francisco 2007 Keynote Address on January 9, 2007).  Despite this, the Netflix mobile app was not yet available to watch movies and TV shows anywhere and anytime.  That would not be until 2010.</LI>\n",
    "    <LI>After 2010, the number of movie titles added to Netflix increased.  However, Netflix did not add any TV show titles during this period.</LI>\n",
    "    <LI>Netflix would start adding more TV show titles in 2013, five years after it added one TV show title.</LI>\n",
    "    <LI>From 2015 to 2016, Netflix added 200 movie titles and 155 TV show titles.</LI>\n",
    "    <LI>From 2017 onward, Netflix added 3X to 4X more movie titles and TV show titles to its catalog.</LI>\n",
    "    <LI>From 2019 to 2020, the number of movie titles decreased while the number of TV show titles increased.</LI>\n",
    "    <LI>In 2021, Netflix is still adding more Movie titles than TV Show titles, but the numbers may be much smaller due to contractual obligations with film companies or productions moving to other competing services such as Disney+, Paramount+, Amazon Prime, Peacock, etc. We did see this trend shift in 2020, but we won't know until the end of 2021 how many movie and TV Show titles were added to Netflix and if those numbers are smaller than in 2020.</LI>\n",
    "</UL>"
   ]
  },
  {
   "cell_type": "markdown",
   "metadata": {},
   "source": [
    "<P><B>Question 4:  What is the Ratings Distribution for the Movies and TV Shows in our Netflix dataset?  Create a graph that illustrates the Ratings Distribution.</B></P>"
   ]
  },
  {
   "cell_type": "markdown",
   "metadata": {},
   "source": [
    "<P>First, let's create a dataframe that lists the ratings and the number of Movies and TV Shows per rating.  We will use the information from our original dataset.</P>"
   ]
  },
  {
   "cell_type": "code",
   "execution_count": 39,
   "metadata": {},
   "outputs": [
    {
     "data": {
      "text/html": [
       "<div>\n",
       "<style scoped>\n",
       "    .dataframe tbody tr th:only-of-type {\n",
       "        vertical-align: middle;\n",
       "    }\n",
       "\n",
       "    .dataframe tbody tr th {\n",
       "        vertical-align: top;\n",
       "    }\n",
       "\n",
       "    .dataframe thead th {\n",
       "        text-align: right;\n",
       "    }\n",
       "</style>\n",
       "<table border=\"1\" class=\"dataframe\">\n",
       "  <thead>\n",
       "    <tr style=\"text-align: right;\">\n",
       "      <th></th>\n",
       "      <th>Rating</th>\n",
       "      <th>Movie</th>\n",
       "      <th>TVshow</th>\n",
       "    </tr>\n",
       "  </thead>\n",
       "  <tbody>\n",
       "    <tr>\n",
       "      <th>0</th>\n",
       "      <td>G</td>\n",
       "      <td>39.0</td>\n",
       "      <td>0.0</td>\n",
       "    </tr>\n",
       "    <tr>\n",
       "      <th>1</th>\n",
       "      <td>NC-17</td>\n",
       "      <td>3.0</td>\n",
       "      <td>0.0</td>\n",
       "    </tr>\n",
       "    <tr>\n",
       "      <th>2</th>\n",
       "      <td>NR</td>\n",
       "      <td>79.0</td>\n",
       "      <td>5.0</td>\n",
       "    </tr>\n",
       "    <tr>\n",
       "      <th>3</th>\n",
       "      <td>PG</td>\n",
       "      <td>247.0</td>\n",
       "      <td>0.0</td>\n",
       "    </tr>\n",
       "    <tr>\n",
       "      <th>4</th>\n",
       "      <td>PG-13</td>\n",
       "      <td>386.0</td>\n",
       "      <td>0.0</td>\n",
       "    </tr>\n",
       "    <tr>\n",
       "      <th>5</th>\n",
       "      <td>R</td>\n",
       "      <td>663.0</td>\n",
       "      <td>2.0</td>\n",
       "    </tr>\n",
       "    <tr>\n",
       "      <th>6</th>\n",
       "      <td>TV-14</td>\n",
       "      <td>1272.0</td>\n",
       "      <td>659.0</td>\n",
       "    </tr>\n",
       "    <tr>\n",
       "      <th>7</th>\n",
       "      <td>TV-G</td>\n",
       "      <td>111.0</td>\n",
       "      <td>83.0</td>\n",
       "    </tr>\n",
       "    <tr>\n",
       "      <th>8</th>\n",
       "      <td>TV-MA</td>\n",
       "      <td>1845.0</td>\n",
       "      <td>1018.0</td>\n",
       "    </tr>\n",
       "    <tr>\n",
       "      <th>9</th>\n",
       "      <td>TV-PG</td>\n",
       "      <td>505.0</td>\n",
       "      <td>301.0</td>\n",
       "    </tr>\n",
       "    <tr>\n",
       "      <th>10</th>\n",
       "      <td>TV-Y</td>\n",
       "      <td>117.0</td>\n",
       "      <td>163.0</td>\n",
       "    </tr>\n",
       "    <tr>\n",
       "      <th>11</th>\n",
       "      <td>TV-Y7</td>\n",
       "      <td>95.0</td>\n",
       "      <td>176.0</td>\n",
       "    </tr>\n",
       "    <tr>\n",
       "      <th>12</th>\n",
       "      <td>TV-Y7-FV</td>\n",
       "      <td>5.0</td>\n",
       "      <td>1.0</td>\n",
       "    </tr>\n",
       "    <tr>\n",
       "      <th>13</th>\n",
       "      <td>UR</td>\n",
       "      <td>5.0</td>\n",
       "      <td>0.0</td>\n",
       "    </tr>\n",
       "  </tbody>\n",
       "</table>\n",
       "</div>"
      ],
      "text/plain": [
       "      Rating   Movie  TVshow\n",
       "0          G    39.0     0.0\n",
       "1      NC-17     3.0     0.0\n",
       "2         NR    79.0     5.0\n",
       "3         PG   247.0     0.0\n",
       "4      PG-13   386.0     0.0\n",
       "5          R   663.0     2.0\n",
       "6      TV-14  1272.0   659.0\n",
       "7       TV-G   111.0    83.0\n",
       "8      TV-MA  1845.0  1018.0\n",
       "9      TV-PG   505.0   301.0\n",
       "10      TV-Y   117.0   163.0\n",
       "11     TV-Y7    95.0   176.0\n",
       "12  TV-Y7-FV     5.0     1.0\n",
       "13        UR     5.0     0.0"
      ]
     },
     "execution_count": 39,
     "metadata": {},
     "output_type": "execute_result"
    }
   ],
   "source": [
    "# Isolating the ratings information from our original Netflix dataset\n",
    "ratings = df_netflix.groupby(['rating', 'type'], as_index=False).title.count()\n",
    "ratings.columns = ['ratings', 'type', 'count']\n",
    "ratings = ratings.pivot(index='ratings', columns='type', values='count').reset_index()\n",
    "ratings.fillna(0, inplace = True)\n",
    "\n",
    "# Dataframe that stores the ratings (i.e., G, R, PG, TV-MA, TV-Y7, etc.) and\n",
    "# number of Movies and TV shows per rating.  We will store it in a dataframe called,\n",
    "# appropriately enough, the_ratings\n",
    "the_ratings = pd.DataFrame(dict(Rating = ratings['ratings'],\n",
    "                                Movie  = ratings['Movie'],\n",
    "                                TVshow = ratings['TV Show']))\n",
    "\n",
    "# Print out our dataframe the_ratings\n",
    "the_ratings"
   ]
  },
  {
   "cell_type": "markdown",
   "metadata": {},
   "source": [
    "<P>Now what we will do is create a vertical bar chart, where we can look at each rating, compare the number of Movies and TV Shows per rating, and plot them side-by-side.  We will also add values to the top of each bar to obtain the actual numbers.</P>"
   ]
  },
  {
   "cell_type": "code",
   "execution_count": 40,
   "metadata": {},
   "outputs": [
    {
     "data": {
      "image/png": "[encoded data removed]",
      "text/plain": [
       "<Figure size 1296x864 with 1 Axes>"
      ]
     },
     "metadata": {
      "needs_background": "light"
     },
     "output_type": "display_data"
    }
   ],
   "source": [
    "# We will need these labels to list the ratings (i.e., G, R, PG, TV-MA, TV-Y7, etc.)\n",
    "labels = the_ratings['Rating']\n",
    "\n",
    "ind = np.arange(len(the_ratings))\n",
    "width = 0.4\n",
    "\n",
    "# Create the axes for our bar graph\n",
    "fig3, ax3 = plt.subplots()\n",
    "Movies_rects = ax3.bar(ind - width/2, the_ratings.Movie, width, color='#CC0000', label=\"Movies\")\n",
    "TVshows_rects = ax3.bar(ind + width/2, the_ratings.TVshow, width, color='#FF9933', label=\"TV Shows\")\n",
    "\n",
    "# Create the labels for our bar graph\n",
    "ax3.set_title(\"Ratings Distribution of Movies and TV Shows in Netflix's catalog (current as of March 2021)\", fontsize=18)\n",
    "ax3.set_ylabel(\"Number Of Movie and TV Show Titles\", fontsize=16)\n",
    "ax3.set_xlabel(\"Ratings\", fontsize=16)\n",
    "\n",
    "# Create the tick labels, set the size of the graph, and set the font sizes\n",
    "ax3.set_xticks(ind)\n",
    "ax3.set_xticklabels(labels)\n",
    "fig3.set_size_inches(18.0, 12.0)\n",
    "plt.rcParams.update({'font.size': 10})\n",
    "ax3.legend()\n",
    "\n",
    "# Function to generate labels on top of the bars\n",
    "def gen_label(rects):\n",
    "    \"\"\"Attach a text label above each bar in *rects*, displaying its height.\"\"\"\n",
    "    for rect in rects:\n",
    "        height = rect.get_height()\n",
    "        ax3.annotate('{}'.format(height),\n",
    "                    xy=(rect.get_x() + rect.get_width() / 2, height),\n",
    "                    xytext=(0, 3),  # 3 points vertical offset\n",
    "                    textcoords=\"offset points\",\n",
    "                    ha='center', va='bottom')\n",
    "\n",
    "# Generate the labels\n",
    "gen_label(Movies_rects)\n",
    "gen_label(TVshows_rects)\n",
    "\n",
    "# Save our graph in *.png format and display the graph\n",
    "fig3.tight_layout()\n",
    "plt.savefig('Ratings_Distribution.png')\n",
    "plt.show()"
   ]
  },
  {
   "cell_type": "markdown",
   "metadata": {},
   "source": [
    "<P>Based on this graph, we can make the following assessments:</P>\n",
    "\n",
    "<UL>\n",
    "    <LI>The majority of titles (both Movies and TV Shows) were rated TV-MA, with 1845 Movies and 1018 TV Shows.</LI>\n",
    "    <LI>Even though the majority of movies were rated TV-MA, they were either theatrical releases in foreign countries; movies that never saw a theatrical release and went straight to home video (i.e., VHS, DVD, or Blu-Ray); and/or movies made specifically for television.</LI>\n",
    "    <LI>The rating that had the fewest titles was NC-17, with just three Movies and no TV Shows.  This was expected, since NC-17 is a film rating determined by the Motion Picture Association (previously the MPAA, or Motion Picture Association of America) and is specific to Movies.</LI>\n",
    "    <LI>The majority of content whose film ratings are G, PG, PG-13, R, and NC-17 are Movies.  As explained in the previous bullet point, these ratings are determined by the Motion Picture Association.</LI>\n",
    "    <LI>Two TV Shows were given an R-rating. This is an error with the Netflix data compiled from Flixable, where a title was listed as a TV Show, but Flixable misidentified it as a Movie and gave it a rating that was intended for movies. This same error happened with five other titles whose rating was NR (Not Rated); see next bullet point.</LI>\n",
    "    <LI>There are 79 Movies rated NR (Not Rated), but five Movies rated UR (Un Rated). This is because the five Movies rated UR are \"Director's Cut\" versions of Movies that were most likely rated R (and those versions of the same movies are not included in Netflix's catalog; it may also explain why they are listed as TV Shows whose rating is NR, because Flixable misidentified them as such). The Movies rated NR were not submitted to the MPA or any other organization for an official rating.</LI>\n",
    "    <LI>There were more TV Shows rated TV-Y and TV-Y7 than Movies.</LI>\n",
    "    <LI>The majority of content available on Netflix is rated TV-14 and TV-MA; this helps identify what subscriber base Netflix is targeted to. If the dataset we obtained came from a service such as Disney+, this graph would be reversed (with the majority of Movies rated G and PG; and TV Shows rated TV-Y, TV-Y7, TV-G and TV-PG).</LI>\n",
    "</UL>"
   ]
  },
  {
   "cell_type": "code",
   "execution_count": null,
   "metadata": {},
   "outputs": [],
   "source": []
  }
 ],
 "metadata": {
  "kernelspec": {
   "display_name": "Python",
   "language": "python",
   "name": "conda-env-python-py"
  },
  "language_info": {
   "codemirror_mode": {
    "name": "ipython",
    "version": 3
   },
   "file_extension": ".py",
   "mimetype": "text/x-python",
   "name": "python",
   "nbconvert_exporter": "python",
   "pygments_lexer": "ipython3",
   "version": "3.6.12"
  }
 },
 "nbformat": 4,
 "nbformat_minor": 4
}
